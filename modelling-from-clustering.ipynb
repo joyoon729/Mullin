{
 "cells": [
  {
   "cell_type": "code",
   "execution_count": 4,
   "metadata": {},
   "outputs": [],
   "source": [
    "from model.module.path_header import *\n",
    "\n",
    "import pandas as pd\n",
    "import numpy as np\n",
    "import tensorflow as tf\n",
    "from sklearn.preprocessing import MinMaxScaler, RobustScaler\n",
    "from sklearn.model_selection import train_test_split\n",
    "\n",
    "import os"
   ]
  },
  {
   "cell_type": "code",
   "execution_count": 5,
   "metadata": {},
   "outputs": [],
   "source": [
    "TRAIN_NAME = '0906-21-train-v2.csv'\n",
    "TEST1_NAME = '0906-21-test1-v2.csv'\n",
    "TEST2_NAME = '0906-21-test2-v2.csv'\n",
    "LABEL_NAME = 'train_label.csv'\n",
    "\n",
    "TRAIN_PATH = os.path.join(PREPROCESS_DIR, TRAIN_NAME)\n",
    "TEST1_PATH = os.path.join(PREPROCESS_DIR, TEST1_NAME)\n",
    "TEST2_PATH = os.path.join(PREPROCESS_DIR, TEST2_NAME)\n",
    "LABEL_PATH = os.path.join(PREPROCESS_DIR, LABEL_NAME)\n",
    "\n",
    "train = pd.read_csv(TRAIN_PATH)\n",
    "test1 = pd.read_csv(TEST1_PATH)\n",
    "test2 = pd.read_csv(TEST2_PATH)\n",
    "label = pd.read_csv(LABEL_PATH)"
   ]
  },
  {
   "cell_type": "code",
   "execution_count": 87,
   "metadata": {},
   "outputs": [],
   "source": [
    "tra = train.copy()\n",
    "te1 = test1.copy()\n",
    "te2 = test2.copy()\n",
    "lab = label.copy()"
   ]
  },
  {
   "cell_type": "code",
   "execution_count": 88,
   "metadata": {},
   "outputs": [],
   "source": [
    "tra_k = pd.read_csv(os.path.join(PREPROCESS_DIR, 'train-knn-clustering.csv'))\n",
    "te1_k = pd.read_csv(os.path.join(PREPROCESS_DIR, 'test1-knn-clustering.csv'))\n",
    "te2_k = pd.read_csv(os.path.join(PREPROCESS_DIR, 'test2-knn-clustering.csv'))"
   ]
  },
  {
   "cell_type": "code",
   "execution_count": 89,
   "metadata": {},
   "outputs": [],
   "source": [
    "tra = pd.merge(tra, tra_k, on='acc_id')\n",
    "te1 = pd.merge(te1, te1_k, on='acc_id')\n",
    "te2 = pd.merge(te2, te2_k, on='acc_id')"
   ]
  },
  {
   "cell_type": "code",
   "execution_count": 90,
   "metadata": {},
   "outputs": [],
   "source": [
    "tra_acc_id = np.unique(tra.acc_id)\n",
    "te1_acc_id = np.unique(te1.acc_id)\n",
    "te2_acc_id = np.unique(te2.acc_id)"
   ]
  },
  {
   "cell_type": "code",
   "execution_count": 91,
   "metadata": {},
   "outputs": [],
   "source": [
    "tra['isPlay'] = tra['a_playtime'].transform(lambda x: 1 if x!=0 else 0)\n",
    "te1['isPlay'] = tra['a_playtime'].transform(lambda x: 1 if x!=0 else 0)\n",
    "te2['isPlay'] = tra['a_playtime'].transform(lambda x: 1 if x!=0 else 0)"
   ]
  },
  {
   "cell_type": "code",
   "execution_count": 92,
   "metadata": {},
   "outputs": [],
   "source": [
    "tra.drop(['acc_id', 'day'], axis=1, inplace=True)\n",
    "te1.drop(['acc_id', 'day'], axis=1, inplace=True)\n",
    "te2.drop(['acc_id', 'day'], axis=1, inplace=True)"
   ]
  },
  {
   "cell_type": "code",
   "execution_count": 93,
   "metadata": {},
   "outputs": [],
   "source": [
    "tra = np.asarray(tra)\n",
    "te1 = np.asarray(te1)\n",
    "te2 = np.asarray(te2)\n",
    "\n",
    "tra = tra.reshape(40000,28,-1)\n",
    "te1 = te1.reshape(20000,28,-1)\n",
    "te2 = te2.reshape(20000,28,-1)"
   ]
  },
  {
   "cell_type": "code",
   "execution_count": 94,
   "metadata": {},
   "outputs": [
    {
     "data": {
      "text/plain": [
       "(40000, 28, 74)"
      ]
     },
     "execution_count": 94,
     "metadata": {},
     "output_type": "execute_result"
    }
   ],
   "source": [
    "tra.shape"
   ]
  },
  {
   "cell_type": "code",
   "execution_count": 95,
   "metadata": {},
   "outputs": [
    {
     "data": {
      "text/plain": [
       "(28, 74)"
      ]
     },
     "execution_count": 95,
     "metadata": {},
     "output_type": "execute_result"
    }
   ],
   "source": [
    "tra[0].shape"
   ]
  },
  {
   "cell_type": "code",
   "execution_count": 106,
   "metadata": {},
   "outputs": [
    {
     "data": {
      "text/plain": [
       "(40000, 22, 7, 74)"
      ]
     },
     "execution_count": 106,
     "metadata": {},
     "output_type": "execute_result"
    }
   ],
   "source": [
    "time_length = 7\n",
    "data7 = []\n",
    "for data in tra:\n",
    "    tmp = []\n",
    "    for i in range(tra.shape[1]-time_length+1): ## range(22)\n",
    "        tmp.append(data[i:i+time_length, :])\n",
    "    data7.append(tmp)\n",
    "data7 = np.asarray(data7)\n",
    "data7.shape"
   ]
  },
  {
   "cell_type": "code",
   "execution_count": 107,
   "metadata": {},
   "outputs": [],
   "source": [
    "input_X = data7[:, :-1, :, :]\n",
    "output = data7[:, 1:, :, [-2]] # isSurvival"
   ]
  },
  {
   "cell_type": "code",
   "execution_count": 109,
   "metadata": {},
   "outputs": [
    {
     "name": "stdout",
     "output_type": "stream",
     "text": [
      "(40000, 21, 7, 74)\n",
      "(40000, 21, 7, 1)\n"
     ]
    }
   ],
   "source": [
    "print(input_X.shape)\n",
    "print(output.shape)"
   ]
  },
  {
   "cell_type": "code",
   "execution_count": 115,
   "metadata": {},
   "outputs": [],
   "source": [
    "input_X = input_X.reshape(-1,7,74)\n",
    "output = output.reshape(-1,7,1)"
   ]
  },
  {
   "cell_type": "code",
   "execution_count": 116,
   "metadata": {},
   "outputs": [
    {
     "name": "stdout",
     "output_type": "stream",
     "text": [
      "(840000, 7, 74)\n",
      "(840000, 7, 1)\n"
     ]
    }
   ],
   "source": [
    "print(input_X.shape)\n",
    "print(output.shape)"
   ]
  },
  {
   "cell_type": "code",
   "execution_count": 146,
   "metadata": {},
   "outputs": [],
   "source": [
    "time_length = 7\n",
    "n_inputs = input_X.shape[2]\n",
    "n_outputs = output.shape[2]\n",
    "n_neurons = 8\n",
    "n_epochs = 10\n",
    "batch_size = 40000\n",
    "num_acc = input_X.shape[0]\n",
    "n_batches = num_acc//batch_size\n",
    "learning_rate = 0.1\n",
    "\n",
    "tf.reset_default_graph()\n",
    "\n",
    "X = tf.placeholder(tf.float32, shape=[None, time_length, n_inputs])\n",
    "y = tf.placeholder(tf.float32, shape=[None, time_length, n_outputs])\n",
    "\n",
    "cell = tf.contrib.rnn.BasicLSTMCell(num_units=n_neurons)\n",
    "outputs, states = tf.nn.dynamic_rnn(cell, X, dtype=tf.float32)\n",
    "\n",
    "outputs = outputs[:, -1, :] # 7 \n",
    "\n",
    "w = tf.get_variable('w', shape=[n_neurons, n_outputs], initializer=tf.contrib.layers.xavier_initializer())\n",
    "b = tf.get_variable('b', shape=[n_outputs], initializer=tf.contrib.layers.xavier_initializer())\n",
    "\n",
    "hf = tf.matmul(outputs, w)+b\n",
    "\n",
    "loss = tf.reduce_mean(tf.square(hf - y))\n",
    "optimizer = tf.train.AdamOptimizer(learning_rate)\n",
    "training_op = optimizer.minimize(loss)"
   ]
  },
  {
   "cell_type": "code",
   "execution_count": 148,
   "metadata": {},
   "outputs": [
    {
     "ename": "InvalidArgumentError",
     "evalue": "Incompatible shapes: [840000,1] vs. [840000,7,1]\n\t [[node gradients/sub_grad/BroadcastGradientArgs (defined at <ipython-input-146-6e8185f90162>:28) ]]\n\nOriginal stack trace for 'gradients/sub_grad/BroadcastGradientArgs':\n  File \"C:\\Users\\MAIN\\Anaconda3\\envs\\kaggle\\lib\\runpy.py\", line 193, in _run_module_as_main\n    \"__main__\", mod_spec)\n  File \"C:\\Users\\MAIN\\Anaconda3\\envs\\kaggle\\lib\\runpy.py\", line 85, in _run_code\n    exec(code, run_globals)\n  File \"C:\\Users\\MAIN\\Anaconda3\\envs\\kaggle\\lib\\site-packages\\ipykernel_launcher.py\", line 16, in <module>\n    app.launch_new_instance()\n  File \"C:\\Users\\MAIN\\Anaconda3\\envs\\kaggle\\lib\\site-packages\\traitlets\\config\\application.py\", line 658, in launch_instance\n    app.start()\n  File \"C:\\Users\\MAIN\\Anaconda3\\envs\\kaggle\\lib\\site-packages\\ipykernel\\kernelapp.py\", line 505, in start\n    self.io_loop.start()\n  File \"C:\\Users\\MAIN\\Anaconda3\\envs\\kaggle\\lib\\site-packages\\tornado\\platform\\asyncio.py\", line 148, in start\n    self.asyncio_loop.run_forever()\n  File \"C:\\Users\\MAIN\\Anaconda3\\envs\\kaggle\\lib\\asyncio\\base_events.py\", line 534, in run_forever\n    self._run_once()\n  File \"C:\\Users\\MAIN\\Anaconda3\\envs\\kaggle\\lib\\asyncio\\base_events.py\", line 1771, in _run_once\n    handle._run()\n  File \"C:\\Users\\MAIN\\Anaconda3\\envs\\kaggle\\lib\\asyncio\\events.py\", line 88, in _run\n    self._context.run(self._callback, *self._args)\n  File \"C:\\Users\\MAIN\\Anaconda3\\envs\\kaggle\\lib\\site-packages\\tornado\\ioloop.py\", line 690, in <lambda>\n    lambda f: self._run_callback(functools.partial(callback, future))\n  File \"C:\\Users\\MAIN\\Anaconda3\\envs\\kaggle\\lib\\site-packages\\tornado\\ioloop.py\", line 743, in _run_callback\n    ret = callback()\n  File \"C:\\Users\\MAIN\\Anaconda3\\envs\\kaggle\\lib\\site-packages\\tornado\\gen.py\", line 787, in inner\n    self.run()\n  File \"C:\\Users\\MAIN\\Anaconda3\\envs\\kaggle\\lib\\site-packages\\tornado\\gen.py\", line 748, in run\n    yielded = self.gen.send(value)\n  File \"C:\\Users\\MAIN\\Anaconda3\\envs\\kaggle\\lib\\site-packages\\ipykernel\\kernelbase.py\", line 365, in process_one\n    yield gen.maybe_future(dispatch(*args))\n  File \"C:\\Users\\MAIN\\Anaconda3\\envs\\kaggle\\lib\\site-packages\\tornado\\gen.py\", line 209, in wrapper\n    yielded = next(result)\n  File \"C:\\Users\\MAIN\\Anaconda3\\envs\\kaggle\\lib\\site-packages\\ipykernel\\kernelbase.py\", line 272, in dispatch_shell\n    yield gen.maybe_future(handler(stream, idents, msg))\n  File \"C:\\Users\\MAIN\\Anaconda3\\envs\\kaggle\\lib\\site-packages\\tornado\\gen.py\", line 209, in wrapper\n    yielded = next(result)\n  File \"C:\\Users\\MAIN\\Anaconda3\\envs\\kaggle\\lib\\site-packages\\ipykernel\\kernelbase.py\", line 542, in execute_request\n    user_expressions, allow_stdin,\n  File \"C:\\Users\\MAIN\\Anaconda3\\envs\\kaggle\\lib\\site-packages\\tornado\\gen.py\", line 209, in wrapper\n    yielded = next(result)\n  File \"C:\\Users\\MAIN\\Anaconda3\\envs\\kaggle\\lib\\site-packages\\ipykernel\\ipkernel.py\", line 294, in do_execute\n    res = shell.run_cell(code, store_history=store_history, silent=silent)\n  File \"C:\\Users\\MAIN\\Anaconda3\\envs\\kaggle\\lib\\site-packages\\ipykernel\\zmqshell.py\", line 536, in run_cell\n    return super(ZMQInteractiveShell, self).run_cell(*args, **kwargs)\n  File \"C:\\Users\\MAIN\\Anaconda3\\envs\\kaggle\\lib\\site-packages\\IPython\\core\\interactiveshell.py\", line 2855, in run_cell\n    raw_cell, store_history, silent, shell_futures)\n  File \"C:\\Users\\MAIN\\Anaconda3\\envs\\kaggle\\lib\\site-packages\\IPython\\core\\interactiveshell.py\", line 2881, in _run_cell\n    return runner(coro)\n  File \"C:\\Users\\MAIN\\Anaconda3\\envs\\kaggle\\lib\\site-packages\\IPython\\core\\async_helpers.py\", line 68, in _pseudo_sync_runner\n    coro.send(None)\n  File \"C:\\Users\\MAIN\\Anaconda3\\envs\\kaggle\\lib\\site-packages\\IPython\\core\\interactiveshell.py\", line 3058, in run_cell_async\n    interactivity=interactivity, compiler=compiler, result=result)\n  File \"C:\\Users\\MAIN\\Anaconda3\\envs\\kaggle\\lib\\site-packages\\IPython\\core\\interactiveshell.py\", line 3249, in run_ast_nodes\n    if (await self.run_code(code, result,  async_=asy)):\n  File \"C:\\Users\\MAIN\\Anaconda3\\envs\\kaggle\\lib\\site-packages\\IPython\\core\\interactiveshell.py\", line 3326, in run_code\n    exec(code_obj, self.user_global_ns, self.user_ns)\n  File \"<ipython-input-146-6e8185f90162>\", line 28, in <module>\n    training_op = optimizer.minimize(loss)\n  File \"C:\\Users\\MAIN\\Anaconda3\\envs\\kaggle\\lib\\site-packages\\tensorflow\\python\\training\\optimizer.py\", line 403, in minimize\n    grad_loss=grad_loss)\n  File \"C:\\Users\\MAIN\\Anaconda3\\envs\\kaggle\\lib\\site-packages\\tensorflow\\python\\training\\optimizer.py\", line 512, in compute_gradients\n    colocate_gradients_with_ops=colocate_gradients_with_ops)\n  File \"C:\\Users\\MAIN\\Anaconda3\\envs\\kaggle\\lib\\site-packages\\tensorflow\\python\\ops\\gradients_impl.py\", line 158, in gradients\n    unconnected_gradients)\n  File \"C:\\Users\\MAIN\\Anaconda3\\envs\\kaggle\\lib\\site-packages\\tensorflow\\python\\ops\\gradients_util.py\", line 731, in _GradientsHelper\n    lambda: grad_fn(op, *out_grads))\n  File \"C:\\Users\\MAIN\\Anaconda3\\envs\\kaggle\\lib\\site-packages\\tensorflow\\python\\ops\\gradients_util.py\", line 403, in _MaybeCompile\n    return grad_fn()  # Exit early\n  File \"C:\\Users\\MAIN\\Anaconda3\\envs\\kaggle\\lib\\site-packages\\tensorflow\\python\\ops\\gradients_util.py\", line 731, in <lambda>\n    lambda: grad_fn(op, *out_grads))\n  File \"C:\\Users\\MAIN\\Anaconda3\\envs\\kaggle\\lib\\site-packages\\tensorflow\\python\\ops\\math_grad.py\", line 1027, in _SubGrad\n    rx, ry = gen_array_ops.broadcast_gradient_args(sx, sy)\n  File \"C:\\Users\\MAIN\\Anaconda3\\envs\\kaggle\\lib\\site-packages\\tensorflow\\python\\ops\\gen_array_ops.py\", line 1004, in broadcast_gradient_args\n    \"BroadcastGradientArgs\", s0=s0, s1=s1, name=name)\n  File \"C:\\Users\\MAIN\\Anaconda3\\envs\\kaggle\\lib\\site-packages\\tensorflow\\python\\framework\\op_def_library.py\", line 788, in _apply_op_helper\n    op_def=op_def)\n  File \"C:\\Users\\MAIN\\Anaconda3\\envs\\kaggle\\lib\\site-packages\\tensorflow\\python\\util\\deprecation.py\", line 507, in new_func\n    return func(*args, **kwargs)\n  File \"C:\\Users\\MAIN\\Anaconda3\\envs\\kaggle\\lib\\site-packages\\tensorflow\\python\\framework\\ops.py\", line 3616, in create_op\n    op_def=op_def)\n  File \"C:\\Users\\MAIN\\Anaconda3\\envs\\kaggle\\lib\\site-packages\\tensorflow\\python\\framework\\ops.py\", line 2005, in __init__\n    self._traceback = tf_stack.extract_stack()\n\n...which was originally created as op 'sub', defined at:\n  File \"C:\\Users\\MAIN\\Anaconda3\\envs\\kaggle\\lib\\runpy.py\", line 193, in _run_module_as_main\n    \"__main__\", mod_spec)\n[elided 25 identical lines from previous traceback]\n  File \"C:\\Users\\MAIN\\Anaconda3\\envs\\kaggle\\lib\\site-packages\\IPython\\core\\interactiveshell.py\", line 3326, in run_code\n    exec(code_obj, self.user_global_ns, self.user_ns)\n  File \"<ipython-input-146-6e8185f90162>\", line 26, in <module>\n    loss = tf.reduce_mean(tf.square(hf - y))\n  File \"C:\\Users\\MAIN\\Anaconda3\\envs\\kaggle\\lib\\site-packages\\tensorflow\\python\\ops\\math_ops.py\", line 884, in binary_op_wrapper\n    return func(x, y, name=name)\n  File \"C:\\Users\\MAIN\\Anaconda3\\envs\\kaggle\\lib\\site-packages\\tensorflow\\python\\ops\\gen_math_ops.py\", line 11574, in sub\n    \"Sub\", x=x, y=y, name=name)\n  File \"C:\\Users\\MAIN\\Anaconda3\\envs\\kaggle\\lib\\site-packages\\tensorflow\\python\\framework\\op_def_library.py\", line 788, in _apply_op_helper\n    op_def=op_def)\n  File \"C:\\Users\\MAIN\\Anaconda3\\envs\\kaggle\\lib\\site-packages\\tensorflow\\python\\util\\deprecation.py\", line 507, in new_func\n    return func(*args, **kwargs)\n  File \"C:\\Users\\MAIN\\Anaconda3\\envs\\kaggle\\lib\\site-packages\\tensorflow\\python\\framework\\ops.py\", line 3616, in create_op\n    op_def=op_def)\n  File \"C:\\Users\\MAIN\\Anaconda3\\envs\\kaggle\\lib\\site-packages\\tensorflow\\python\\framework\\ops.py\", line 2005, in __init__\n    self._traceback = tf_stack.extract_stack()\n",
     "output_type": "error",
     "traceback": [
      "\u001b[1;31m---------------------------------------------------------------------------\u001b[0m",
      "\u001b[1;31mInvalidArgumentError\u001b[0m                      Traceback (most recent call last)",
      "\u001b[1;32m~\\Anaconda3\\envs\\kaggle\\lib\\site-packages\\tensorflow\\python\\client\\session.py\u001b[0m in \u001b[0;36m_do_call\u001b[1;34m(self, fn, *args)\u001b[0m\n\u001b[0;32m   1355\u001b[0m     \u001b[1;32mtry\u001b[0m\u001b[1;33m:\u001b[0m\u001b[1;33m\u001b[0m\u001b[1;33m\u001b[0m\u001b[0m\n\u001b[1;32m-> 1356\u001b[1;33m       \u001b[1;32mreturn\u001b[0m \u001b[0mfn\u001b[0m\u001b[1;33m(\u001b[0m\u001b[1;33m*\u001b[0m\u001b[0margs\u001b[0m\u001b[1;33m)\u001b[0m\u001b[1;33m\u001b[0m\u001b[1;33m\u001b[0m\u001b[0m\n\u001b[0m\u001b[0;32m   1357\u001b[0m     \u001b[1;32mexcept\u001b[0m \u001b[0merrors\u001b[0m\u001b[1;33m.\u001b[0m\u001b[0mOpError\u001b[0m \u001b[1;32mas\u001b[0m \u001b[0me\u001b[0m\u001b[1;33m:\u001b[0m\u001b[1;33m\u001b[0m\u001b[1;33m\u001b[0m\u001b[0m\n",
      "\u001b[1;32m~\\Anaconda3\\envs\\kaggle\\lib\\site-packages\\tensorflow\\python\\client\\session.py\u001b[0m in \u001b[0;36m_run_fn\u001b[1;34m(feed_dict, fetch_list, target_list, options, run_metadata)\u001b[0m\n\u001b[0;32m   1340\u001b[0m       return self._call_tf_sessionrun(\n\u001b[1;32m-> 1341\u001b[1;33m           options, feed_dict, fetch_list, target_list, run_metadata)\n\u001b[0m\u001b[0;32m   1342\u001b[0m \u001b[1;33m\u001b[0m\u001b[0m\n",
      "\u001b[1;32m~\\Anaconda3\\envs\\kaggle\\lib\\site-packages\\tensorflow\\python\\client\\session.py\u001b[0m in \u001b[0;36m_call_tf_sessionrun\u001b[1;34m(self, options, feed_dict, fetch_list, target_list, run_metadata)\u001b[0m\n\u001b[0;32m   1428\u001b[0m         \u001b[0mself\u001b[0m\u001b[1;33m.\u001b[0m\u001b[0m_session\u001b[0m\u001b[1;33m,\u001b[0m \u001b[0moptions\u001b[0m\u001b[1;33m,\u001b[0m \u001b[0mfeed_dict\u001b[0m\u001b[1;33m,\u001b[0m \u001b[0mfetch_list\u001b[0m\u001b[1;33m,\u001b[0m \u001b[0mtarget_list\u001b[0m\u001b[1;33m,\u001b[0m\u001b[1;33m\u001b[0m\u001b[1;33m\u001b[0m\u001b[0m\n\u001b[1;32m-> 1429\u001b[1;33m         run_metadata)\n\u001b[0m\u001b[0;32m   1430\u001b[0m \u001b[1;33m\u001b[0m\u001b[0m\n",
      "\u001b[1;31mInvalidArgumentError\u001b[0m: Incompatible shapes: [840000,1] vs. [840000,7,1]\n\t [[{{node gradients/sub_grad/BroadcastGradientArgs}}]]",
      "\nDuring handling of the above exception, another exception occurred:\n",
      "\u001b[1;31mInvalidArgumentError\u001b[0m                      Traceback (most recent call last)",
      "\u001b[1;32m<ipython-input-148-a5488f00739a>\u001b[0m in \u001b[0;36m<module>\u001b[1;34m\u001b[0m\n\u001b[0;32m      5\u001b[0m \u001b[1;33m\u001b[0m\u001b[0m\n\u001b[0;32m      6\u001b[0m     \u001b[1;32mfor\u001b[0m \u001b[0mepoch\u001b[0m \u001b[1;32min\u001b[0m \u001b[0mrange\u001b[0m\u001b[1;33m(\u001b[0m\u001b[0mn_epochs\u001b[0m\u001b[1;33m)\u001b[0m\u001b[1;33m:\u001b[0m\u001b[1;33m\u001b[0m\u001b[1;33m\u001b[0m\u001b[0m\n\u001b[1;32m----> 7\u001b[1;33m         \u001b[0m_\u001b[0m\u001b[1;33m,\u001b[0m \u001b[0m_loss\u001b[0m \u001b[1;33m=\u001b[0m \u001b[0msess\u001b[0m\u001b[1;33m.\u001b[0m\u001b[0mrun\u001b[0m\u001b[1;33m(\u001b[0m\u001b[1;33m[\u001b[0m\u001b[0mtraining_op\u001b[0m\u001b[1;33m,\u001b[0m \u001b[0mloss\u001b[0m\u001b[1;33m]\u001b[0m\u001b[1;33m,\u001b[0m \u001b[0mfeed_dict\u001b[0m\u001b[1;33m=\u001b[0m\u001b[1;33m{\u001b[0m\u001b[0mX\u001b[0m\u001b[1;33m:\u001b[0m \u001b[0minput_X\u001b[0m\u001b[1;33m,\u001b[0m \u001b[0my\u001b[0m\u001b[1;33m:\u001b[0m \u001b[0moutput\u001b[0m\u001b[1;33m}\u001b[0m\u001b[1;33m)\u001b[0m\u001b[1;33m\u001b[0m\u001b[1;33m\u001b[0m\u001b[0m\n\u001b[0m\u001b[0;32m      8\u001b[0m \u001b[1;33m\u001b[0m\u001b[0m\n\u001b[0;32m      9\u001b[0m         \u001b[1;32mif\u001b[0m \u001b[0mepoch\u001b[0m \u001b[1;33m%\u001b[0m \u001b[1;36m100\u001b[0m \u001b[1;33m==\u001b[0m \u001b[1;36m0\u001b[0m\u001b[1;33m:\u001b[0m\u001b[1;33m\u001b[0m\u001b[1;33m\u001b[0m\u001b[0m\n",
      "\u001b[1;32m~\\Anaconda3\\envs\\kaggle\\lib\\site-packages\\tensorflow\\python\\client\\session.py\u001b[0m in \u001b[0;36mrun\u001b[1;34m(self, fetches, feed_dict, options, run_metadata)\u001b[0m\n\u001b[0;32m    948\u001b[0m     \u001b[1;32mtry\u001b[0m\u001b[1;33m:\u001b[0m\u001b[1;33m\u001b[0m\u001b[1;33m\u001b[0m\u001b[0m\n\u001b[0;32m    949\u001b[0m       result = self._run(None, fetches, feed_dict, options_ptr,\n\u001b[1;32m--> 950\u001b[1;33m                          run_metadata_ptr)\n\u001b[0m\u001b[0;32m    951\u001b[0m       \u001b[1;32mif\u001b[0m \u001b[0mrun_metadata\u001b[0m\u001b[1;33m:\u001b[0m\u001b[1;33m\u001b[0m\u001b[1;33m\u001b[0m\u001b[0m\n\u001b[0;32m    952\u001b[0m         \u001b[0mproto_data\u001b[0m \u001b[1;33m=\u001b[0m \u001b[0mtf_session\u001b[0m\u001b[1;33m.\u001b[0m\u001b[0mTF_GetBuffer\u001b[0m\u001b[1;33m(\u001b[0m\u001b[0mrun_metadata_ptr\u001b[0m\u001b[1;33m)\u001b[0m\u001b[1;33m\u001b[0m\u001b[1;33m\u001b[0m\u001b[0m\n",
      "\u001b[1;32m~\\Anaconda3\\envs\\kaggle\\lib\\site-packages\\tensorflow\\python\\client\\session.py\u001b[0m in \u001b[0;36m_run\u001b[1;34m(self, handle, fetches, feed_dict, options, run_metadata)\u001b[0m\n\u001b[0;32m   1171\u001b[0m     \u001b[1;32mif\u001b[0m \u001b[0mfinal_fetches\u001b[0m \u001b[1;32mor\u001b[0m \u001b[0mfinal_targets\u001b[0m \u001b[1;32mor\u001b[0m \u001b[1;33m(\u001b[0m\u001b[0mhandle\u001b[0m \u001b[1;32mand\u001b[0m \u001b[0mfeed_dict_tensor\u001b[0m\u001b[1;33m)\u001b[0m\u001b[1;33m:\u001b[0m\u001b[1;33m\u001b[0m\u001b[1;33m\u001b[0m\u001b[0m\n\u001b[0;32m   1172\u001b[0m       results = self._do_run(handle, final_targets, final_fetches,\n\u001b[1;32m-> 1173\u001b[1;33m                              feed_dict_tensor, options, run_metadata)\n\u001b[0m\u001b[0;32m   1174\u001b[0m     \u001b[1;32melse\u001b[0m\u001b[1;33m:\u001b[0m\u001b[1;33m\u001b[0m\u001b[1;33m\u001b[0m\u001b[0m\n\u001b[0;32m   1175\u001b[0m       \u001b[0mresults\u001b[0m \u001b[1;33m=\u001b[0m \u001b[1;33m[\u001b[0m\u001b[1;33m]\u001b[0m\u001b[1;33m\u001b[0m\u001b[1;33m\u001b[0m\u001b[0m\n",
      "\u001b[1;32m~\\Anaconda3\\envs\\kaggle\\lib\\site-packages\\tensorflow\\python\\client\\session.py\u001b[0m in \u001b[0;36m_do_run\u001b[1;34m(self, handle, target_list, fetch_list, feed_dict, options, run_metadata)\u001b[0m\n\u001b[0;32m   1348\u001b[0m     \u001b[1;32mif\u001b[0m \u001b[0mhandle\u001b[0m \u001b[1;32mis\u001b[0m \u001b[1;32mNone\u001b[0m\u001b[1;33m:\u001b[0m\u001b[1;33m\u001b[0m\u001b[1;33m\u001b[0m\u001b[0m\n\u001b[0;32m   1349\u001b[0m       return self._do_call(_run_fn, feeds, fetches, targets, options,\n\u001b[1;32m-> 1350\u001b[1;33m                            run_metadata)\n\u001b[0m\u001b[0;32m   1351\u001b[0m     \u001b[1;32melse\u001b[0m\u001b[1;33m:\u001b[0m\u001b[1;33m\u001b[0m\u001b[1;33m\u001b[0m\u001b[0m\n\u001b[0;32m   1352\u001b[0m       \u001b[1;32mreturn\u001b[0m \u001b[0mself\u001b[0m\u001b[1;33m.\u001b[0m\u001b[0m_do_call\u001b[0m\u001b[1;33m(\u001b[0m\u001b[0m_prun_fn\u001b[0m\u001b[1;33m,\u001b[0m \u001b[0mhandle\u001b[0m\u001b[1;33m,\u001b[0m \u001b[0mfeeds\u001b[0m\u001b[1;33m,\u001b[0m \u001b[0mfetches\u001b[0m\u001b[1;33m)\u001b[0m\u001b[1;33m\u001b[0m\u001b[1;33m\u001b[0m\u001b[0m\n",
      "\u001b[1;32m~\\Anaconda3\\envs\\kaggle\\lib\\site-packages\\tensorflow\\python\\client\\session.py\u001b[0m in \u001b[0;36m_do_call\u001b[1;34m(self, fn, *args)\u001b[0m\n\u001b[0;32m   1368\u001b[0m           \u001b[1;32mpass\u001b[0m\u001b[1;33m\u001b[0m\u001b[1;33m\u001b[0m\u001b[0m\n\u001b[0;32m   1369\u001b[0m       \u001b[0mmessage\u001b[0m \u001b[1;33m=\u001b[0m \u001b[0merror_interpolation\u001b[0m\u001b[1;33m.\u001b[0m\u001b[0minterpolate\u001b[0m\u001b[1;33m(\u001b[0m\u001b[0mmessage\u001b[0m\u001b[1;33m,\u001b[0m \u001b[0mself\u001b[0m\u001b[1;33m.\u001b[0m\u001b[0m_graph\u001b[0m\u001b[1;33m)\u001b[0m\u001b[1;33m\u001b[0m\u001b[1;33m\u001b[0m\u001b[0m\n\u001b[1;32m-> 1370\u001b[1;33m       \u001b[1;32mraise\u001b[0m \u001b[0mtype\u001b[0m\u001b[1;33m(\u001b[0m\u001b[0me\u001b[0m\u001b[1;33m)\u001b[0m\u001b[1;33m(\u001b[0m\u001b[0mnode_def\u001b[0m\u001b[1;33m,\u001b[0m \u001b[0mop\u001b[0m\u001b[1;33m,\u001b[0m \u001b[0mmessage\u001b[0m\u001b[1;33m)\u001b[0m\u001b[1;33m\u001b[0m\u001b[1;33m\u001b[0m\u001b[0m\n\u001b[0m\u001b[0;32m   1371\u001b[0m \u001b[1;33m\u001b[0m\u001b[0m\n\u001b[0;32m   1372\u001b[0m   \u001b[1;32mdef\u001b[0m \u001b[0m_extend_graph\u001b[0m\u001b[1;33m(\u001b[0m\u001b[0mself\u001b[0m\u001b[1;33m)\u001b[0m\u001b[1;33m:\u001b[0m\u001b[1;33m\u001b[0m\u001b[1;33m\u001b[0m\u001b[0m\n",
      "\u001b[1;31mInvalidArgumentError\u001b[0m: Incompatible shapes: [840000,1] vs. [840000,7,1]\n\t [[node gradients/sub_grad/BroadcastGradientArgs (defined at <ipython-input-146-6e8185f90162>:28) ]]\n\nOriginal stack trace for 'gradients/sub_grad/BroadcastGradientArgs':\n  File \"C:\\Users\\MAIN\\Anaconda3\\envs\\kaggle\\lib\\runpy.py\", line 193, in _run_module_as_main\n    \"__main__\", mod_spec)\n  File \"C:\\Users\\MAIN\\Anaconda3\\envs\\kaggle\\lib\\runpy.py\", line 85, in _run_code\n    exec(code, run_globals)\n  File \"C:\\Users\\MAIN\\Anaconda3\\envs\\kaggle\\lib\\site-packages\\ipykernel_launcher.py\", line 16, in <module>\n    app.launch_new_instance()\n  File \"C:\\Users\\MAIN\\Anaconda3\\envs\\kaggle\\lib\\site-packages\\traitlets\\config\\application.py\", line 658, in launch_instance\n    app.start()\n  File \"C:\\Users\\MAIN\\Anaconda3\\envs\\kaggle\\lib\\site-packages\\ipykernel\\kernelapp.py\", line 505, in start\n    self.io_loop.start()\n  File \"C:\\Users\\MAIN\\Anaconda3\\envs\\kaggle\\lib\\site-packages\\tornado\\platform\\asyncio.py\", line 148, in start\n    self.asyncio_loop.run_forever()\n  File \"C:\\Users\\MAIN\\Anaconda3\\envs\\kaggle\\lib\\asyncio\\base_events.py\", line 534, in run_forever\n    self._run_once()\n  File \"C:\\Users\\MAIN\\Anaconda3\\envs\\kaggle\\lib\\asyncio\\base_events.py\", line 1771, in _run_once\n    handle._run()\n  File \"C:\\Users\\MAIN\\Anaconda3\\envs\\kaggle\\lib\\asyncio\\events.py\", line 88, in _run\n    self._context.run(self._callback, *self._args)\n  File \"C:\\Users\\MAIN\\Anaconda3\\envs\\kaggle\\lib\\site-packages\\tornado\\ioloop.py\", line 690, in <lambda>\n    lambda f: self._run_callback(functools.partial(callback, future))\n  File \"C:\\Users\\MAIN\\Anaconda3\\envs\\kaggle\\lib\\site-packages\\tornado\\ioloop.py\", line 743, in _run_callback\n    ret = callback()\n  File \"C:\\Users\\MAIN\\Anaconda3\\envs\\kaggle\\lib\\site-packages\\tornado\\gen.py\", line 787, in inner\n    self.run()\n  File \"C:\\Users\\MAIN\\Anaconda3\\envs\\kaggle\\lib\\site-packages\\tornado\\gen.py\", line 748, in run\n    yielded = self.gen.send(value)\n  File \"C:\\Users\\MAIN\\Anaconda3\\envs\\kaggle\\lib\\site-packages\\ipykernel\\kernelbase.py\", line 365, in process_one\n    yield gen.maybe_future(dispatch(*args))\n  File \"C:\\Users\\MAIN\\Anaconda3\\envs\\kaggle\\lib\\site-packages\\tornado\\gen.py\", line 209, in wrapper\n    yielded = next(result)\n  File \"C:\\Users\\MAIN\\Anaconda3\\envs\\kaggle\\lib\\site-packages\\ipykernel\\kernelbase.py\", line 272, in dispatch_shell\n    yield gen.maybe_future(handler(stream, idents, msg))\n  File \"C:\\Users\\MAIN\\Anaconda3\\envs\\kaggle\\lib\\site-packages\\tornado\\gen.py\", line 209, in wrapper\n    yielded = next(result)\n  File \"C:\\Users\\MAIN\\Anaconda3\\envs\\kaggle\\lib\\site-packages\\ipykernel\\kernelbase.py\", line 542, in execute_request\n    user_expressions, allow_stdin,\n  File \"C:\\Users\\MAIN\\Anaconda3\\envs\\kaggle\\lib\\site-packages\\tornado\\gen.py\", line 209, in wrapper\n    yielded = next(result)\n  File \"C:\\Users\\MAIN\\Anaconda3\\envs\\kaggle\\lib\\site-packages\\ipykernel\\ipkernel.py\", line 294, in do_execute\n    res = shell.run_cell(code, store_history=store_history, silent=silent)\n  File \"C:\\Users\\MAIN\\Anaconda3\\envs\\kaggle\\lib\\site-packages\\ipykernel\\zmqshell.py\", line 536, in run_cell\n    return super(ZMQInteractiveShell, self).run_cell(*args, **kwargs)\n  File \"C:\\Users\\MAIN\\Anaconda3\\envs\\kaggle\\lib\\site-packages\\IPython\\core\\interactiveshell.py\", line 2855, in run_cell\n    raw_cell, store_history, silent, shell_futures)\n  File \"C:\\Users\\MAIN\\Anaconda3\\envs\\kaggle\\lib\\site-packages\\IPython\\core\\interactiveshell.py\", line 2881, in _run_cell\n    return runner(coro)\n  File \"C:\\Users\\MAIN\\Anaconda3\\envs\\kaggle\\lib\\site-packages\\IPython\\core\\async_helpers.py\", line 68, in _pseudo_sync_runner\n    coro.send(None)\n  File \"C:\\Users\\MAIN\\Anaconda3\\envs\\kaggle\\lib\\site-packages\\IPython\\core\\interactiveshell.py\", line 3058, in run_cell_async\n    interactivity=interactivity, compiler=compiler, result=result)\n  File \"C:\\Users\\MAIN\\Anaconda3\\envs\\kaggle\\lib\\site-packages\\IPython\\core\\interactiveshell.py\", line 3249, in run_ast_nodes\n    if (await self.run_code(code, result,  async_=asy)):\n  File \"C:\\Users\\MAIN\\Anaconda3\\envs\\kaggle\\lib\\site-packages\\IPython\\core\\interactiveshell.py\", line 3326, in run_code\n    exec(code_obj, self.user_global_ns, self.user_ns)\n  File \"<ipython-input-146-6e8185f90162>\", line 28, in <module>\n    training_op = optimizer.minimize(loss)\n  File \"C:\\Users\\MAIN\\Anaconda3\\envs\\kaggle\\lib\\site-packages\\tensorflow\\python\\training\\optimizer.py\", line 403, in minimize\n    grad_loss=grad_loss)\n  File \"C:\\Users\\MAIN\\Anaconda3\\envs\\kaggle\\lib\\site-packages\\tensorflow\\python\\training\\optimizer.py\", line 512, in compute_gradients\n    colocate_gradients_with_ops=colocate_gradients_with_ops)\n  File \"C:\\Users\\MAIN\\Anaconda3\\envs\\kaggle\\lib\\site-packages\\tensorflow\\python\\ops\\gradients_impl.py\", line 158, in gradients\n    unconnected_gradients)\n  File \"C:\\Users\\MAIN\\Anaconda3\\envs\\kaggle\\lib\\site-packages\\tensorflow\\python\\ops\\gradients_util.py\", line 731, in _GradientsHelper\n    lambda: grad_fn(op, *out_grads))\n  File \"C:\\Users\\MAIN\\Anaconda3\\envs\\kaggle\\lib\\site-packages\\tensorflow\\python\\ops\\gradients_util.py\", line 403, in _MaybeCompile\n    return grad_fn()  # Exit early\n  File \"C:\\Users\\MAIN\\Anaconda3\\envs\\kaggle\\lib\\site-packages\\tensorflow\\python\\ops\\gradients_util.py\", line 731, in <lambda>\n    lambda: grad_fn(op, *out_grads))\n  File \"C:\\Users\\MAIN\\Anaconda3\\envs\\kaggle\\lib\\site-packages\\tensorflow\\python\\ops\\math_grad.py\", line 1027, in _SubGrad\n    rx, ry = gen_array_ops.broadcast_gradient_args(sx, sy)\n  File \"C:\\Users\\MAIN\\Anaconda3\\envs\\kaggle\\lib\\site-packages\\tensorflow\\python\\ops\\gen_array_ops.py\", line 1004, in broadcast_gradient_args\n    \"BroadcastGradientArgs\", s0=s0, s1=s1, name=name)\n  File \"C:\\Users\\MAIN\\Anaconda3\\envs\\kaggle\\lib\\site-packages\\tensorflow\\python\\framework\\op_def_library.py\", line 788, in _apply_op_helper\n    op_def=op_def)\n  File \"C:\\Users\\MAIN\\Anaconda3\\envs\\kaggle\\lib\\site-packages\\tensorflow\\python\\util\\deprecation.py\", line 507, in new_func\n    return func(*args, **kwargs)\n  File \"C:\\Users\\MAIN\\Anaconda3\\envs\\kaggle\\lib\\site-packages\\tensorflow\\python\\framework\\ops.py\", line 3616, in create_op\n    op_def=op_def)\n  File \"C:\\Users\\MAIN\\Anaconda3\\envs\\kaggle\\lib\\site-packages\\tensorflow\\python\\framework\\ops.py\", line 2005, in __init__\n    self._traceback = tf_stack.extract_stack()\n\n...which was originally created as op 'sub', defined at:\n  File \"C:\\Users\\MAIN\\Anaconda3\\envs\\kaggle\\lib\\runpy.py\", line 193, in _run_module_as_main\n    \"__main__\", mod_spec)\n[elided 25 identical lines from previous traceback]\n  File \"C:\\Users\\MAIN\\Anaconda3\\envs\\kaggle\\lib\\site-packages\\IPython\\core\\interactiveshell.py\", line 3326, in run_code\n    exec(code_obj, self.user_global_ns, self.user_ns)\n  File \"<ipython-input-146-6e8185f90162>\", line 26, in <module>\n    loss = tf.reduce_mean(tf.square(hf - y))\n  File \"C:\\Users\\MAIN\\Anaconda3\\envs\\kaggle\\lib\\site-packages\\tensorflow\\python\\ops\\math_ops.py\", line 884, in binary_op_wrapper\n    return func(x, y, name=name)\n  File \"C:\\Users\\MAIN\\Anaconda3\\envs\\kaggle\\lib\\site-packages\\tensorflow\\python\\ops\\gen_math_ops.py\", line 11574, in sub\n    \"Sub\", x=x, y=y, name=name)\n  File \"C:\\Users\\MAIN\\Anaconda3\\envs\\kaggle\\lib\\site-packages\\tensorflow\\python\\framework\\op_def_library.py\", line 788, in _apply_op_helper\n    op_def=op_def)\n  File \"C:\\Users\\MAIN\\Anaconda3\\envs\\kaggle\\lib\\site-packages\\tensorflow\\python\\util\\deprecation.py\", line 507, in new_func\n    return func(*args, **kwargs)\n  File \"C:\\Users\\MAIN\\Anaconda3\\envs\\kaggle\\lib\\site-packages\\tensorflow\\python\\framework\\ops.py\", line 3616, in create_op\n    op_def=op_def)\n  File \"C:\\Users\\MAIN\\Anaconda3\\envs\\kaggle\\lib\\site-packages\\tensorflow\\python\\framework\\ops.py\", line 2005, in __init__\n    self._traceback = tf_stack.extract_stack()\n"
     ]
    }
   ],
   "source": [
    "init = tf.global_variables_initializer()\n",
    "\n",
    "with tf.Session() as sess:\n",
    "    init.run()\n",
    "    \n",
    "    for epoch in range(n_epochs):\n",
    "        _, _loss = sess.run([training_op, loss], feed_dict={X: input_X, y: output})\n",
    "            \n",
    "        if epoch % 100 == 0:\n",
    "            val_loss = sess.run(loss, feed_dict={X: X_val, y: y_val})\n",
    "            print(f\"Epoch: {epoch} \\t| MSE: {_loss:.8f} \\t| Validation Loss: {val_loss:.8f}\")\n",
    "            \n",
    "    test_index = np.random.randint(0, int(num_accounts * val_size), 15)\n",
    "    y_pred = sess.run(hf, feed_dict={X: X_val[test_index]})\n",
    "    y_true = y_val[test_index]\n",
    "    \n",
    "    for p, t in zip(y_pred, y_true):\n",
    "        print(\"=\" * 40)\n",
    "        for _p, _t in zip(p, t):\n",
    "            print(f\"Predicted: {_p[0]:.8f}, \\tActual: {_t[0]:.8f}\")\n",
    "            \n",
    "    sequence_data = [sess.run(hf, feed_dict={X:X_test1})]      "
   ]
  }
 ],
 "metadata": {
  "kernelspec": {
   "display_name": "Python 3",
   "language": "python",
   "name": "python3"
  },
  "language_info": {
   "codemirror_mode": {
    "name": "ipython",
    "version": 3
   },
   "file_extension": ".py",
   "mimetype": "text/x-python",
   "name": "python",
   "nbconvert_exporter": "python",
   "pygments_lexer": "ipython3",
   "version": "3.7.4"
  }
 },
 "nbformat": 4,
 "nbformat_minor": 2
}
