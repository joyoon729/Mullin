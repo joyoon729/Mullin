{
 "cells": [
  {
   "cell_type": "code",
   "execution_count": 48,
   "metadata": {},
   "outputs": [],
   "source": [
    "from model.module.path_header import *\n",
    "\n",
    "import pandas as pd\n",
    "import numpy as np\n",
    "import matplotlib.pyplot as plt\n",
    "import seaborn as sns\n",
    "import os"
   ]
  },
  {
   "cell_type": "code",
   "execution_count": 26,
   "metadata": {},
   "outputs": [],
   "source": [
    "TRAIN_NAME = '0906-09-train-v2-withNA.csv'\n",
    "TRAIN2_NAME = '0906-09-train-v2.csv'\n",
    "LABEL_NAME = 'train_label.csv'\n",
    "TEST1_NAME = '0906-09-test1-v2-withNA.csv'\n",
    "TEST2_NAME = '0906-09-test2-v2-withNA.csv'\n",
    "\n",
    "\n",
    "TRAIN_PATH = os.path.join(PREPROCESS_DIR, TRAIN_NAME)\n",
    "TRAIN2_PATH = os.path.join(PREPROCESS_DIR, TRAIN2_NAME)\n",
    "LABEL_PATH = os.path.join(PREPROCESS_DIR, LABEL_NAME)\n",
    "TEST1_PATH = os.path.join(PREPROCESS_DIR, TEST1_NAME)\n",
    "TEST2_PATH = os.path.join(PREPROCESS_DIR, TEST2_NAME)"
   ]
  },
  {
   "cell_type": "code",
   "execution_count": 255,
   "metadata": {},
   "outputs": [],
   "source": [
    "train = pd.read_csv(TRAIN_PATH)\n",
    "train2 = pd.read_csv(TRAIN2_PATH)\n",
    "label = pd.read_csv(LABEL_PATH)"
   ]
  },
  {
   "cell_type": "code",
   "execution_count": 256,
   "metadata": {},
   "outputs": [
    {
     "data": {
      "text/html": [
       "<div>\n",
       "<style scoped>\n",
       "    .dataframe tbody tr th:only-of-type {\n",
       "        vertical-align: middle;\n",
       "    }\n",
       "\n",
       "    .dataframe tbody tr th {\n",
       "        vertical-align: top;\n",
       "    }\n",
       "\n",
       "    .dataframe thead th {\n",
       "        text-align: right;\n",
       "    }\n",
       "</style>\n",
       "<table border=\"1\" class=\"dataframe\">\n",
       "  <thead>\n",
       "    <tr style=\"text-align: right;\">\n",
       "      <th></th>\n",
       "      <th>acc_id</th>\n",
       "      <th>survival_time</th>\n",
       "      <th>amount_spent</th>\n",
       "    </tr>\n",
       "  </thead>\n",
       "  <tbody>\n",
       "    <tr>\n",
       "      <th>0</th>\n",
       "      <td>2</td>\n",
       "      <td>64</td>\n",
       "      <td>0.000000</td>\n",
       "    </tr>\n",
       "    <tr>\n",
       "      <th>1</th>\n",
       "      <td>5</td>\n",
       "      <td>60</td>\n",
       "      <td>0.000000</td>\n",
       "    </tr>\n",
       "    <tr>\n",
       "      <th>2</th>\n",
       "      <td>8</td>\n",
       "      <td>64</td>\n",
       "      <td>0.020310</td>\n",
       "    </tr>\n",
       "    <tr>\n",
       "      <th>3</th>\n",
       "      <td>17</td>\n",
       "      <td>64</td>\n",
       "      <td>0.070642</td>\n",
       "    </tr>\n",
       "    <tr>\n",
       "      <th>4</th>\n",
       "      <td>20</td>\n",
       "      <td>64</td>\n",
       "      <td>0.052137</td>\n",
       "    </tr>\n",
       "  </tbody>\n",
       "</table>\n",
       "</div>"
      ],
      "text/plain": [
       "   acc_id  survival_time  amount_spent\n",
       "0       2             64      0.000000\n",
       "1       5             60      0.000000\n",
       "2       8             64      0.020310\n",
       "3      17             64      0.070642\n",
       "4      20             64      0.052137"
      ]
     },
     "execution_count": 256,
     "metadata": {},
     "output_type": "execute_result"
    }
   ],
   "source": [
    "label.head()"
   ]
  },
  {
   "cell_type": "code",
   "execution_count": 257,
   "metadata": {},
   "outputs": [],
   "source": [
    "label['isSurvival'] = label['survival_time'].transform(lambda x: 1 if x==64 else 0)"
   ]
  },
  {
   "cell_type": "code",
   "execution_count": 258,
   "metadata": {},
   "outputs": [
    {
     "data": {
      "text/html": [
       "<div>\n",
       "<style scoped>\n",
       "    .dataframe tbody tr th:only-of-type {\n",
       "        vertical-align: middle;\n",
       "    }\n",
       "\n",
       "    .dataframe tbody tr th {\n",
       "        vertical-align: top;\n",
       "    }\n",
       "\n",
       "    .dataframe thead th {\n",
       "        text-align: right;\n",
       "    }\n",
       "</style>\n",
       "<table border=\"1\" class=\"dataframe\">\n",
       "  <thead>\n",
       "    <tr style=\"text-align: right;\">\n",
       "      <th></th>\n",
       "      <th>acc_id</th>\n",
       "      <th>survival_time</th>\n",
       "      <th>amount_spent</th>\n",
       "      <th>isSurvival</th>\n",
       "    </tr>\n",
       "  </thead>\n",
       "  <tbody>\n",
       "    <tr>\n",
       "      <th>0</th>\n",
       "      <td>2</td>\n",
       "      <td>64</td>\n",
       "      <td>0.000000</td>\n",
       "      <td>1</td>\n",
       "    </tr>\n",
       "    <tr>\n",
       "      <th>1</th>\n",
       "      <td>5</td>\n",
       "      <td>60</td>\n",
       "      <td>0.000000</td>\n",
       "      <td>0</td>\n",
       "    </tr>\n",
       "    <tr>\n",
       "      <th>2</th>\n",
       "      <td>8</td>\n",
       "      <td>64</td>\n",
       "      <td>0.020310</td>\n",
       "      <td>1</td>\n",
       "    </tr>\n",
       "    <tr>\n",
       "      <th>3</th>\n",
       "      <td>17</td>\n",
       "      <td>64</td>\n",
       "      <td>0.070642</td>\n",
       "      <td>1</td>\n",
       "    </tr>\n",
       "    <tr>\n",
       "      <th>4</th>\n",
       "      <td>20</td>\n",
       "      <td>64</td>\n",
       "      <td>0.052137</td>\n",
       "      <td>1</td>\n",
       "    </tr>\n",
       "  </tbody>\n",
       "</table>\n",
       "</div>"
      ],
      "text/plain": [
       "   acc_id  survival_time  amount_spent  isSurvival\n",
       "0       2             64      0.000000           1\n",
       "1       5             60      0.000000           0\n",
       "2       8             64      0.020310           1\n",
       "3      17             64      0.070642           1\n",
       "4      20             64      0.052137           1"
      ]
     },
     "execution_count": 258,
     "metadata": {},
     "output_type": "execute_result"
    }
   ],
   "source": [
    "label.head()"
   ]
  },
  {
   "cell_type": "code",
   "execution_count": 311,
   "metadata": {},
   "outputs": [],
   "source": [
    "ids = np.unique(train2.acc_id)\n",
    "days = np.unique(train2.day)\n",
    "\n",
    "df = train2.drop(['day'], axis=1)\n",
    "cols = df.columns"
   ]
  },
  {
   "cell_type": "code",
   "execution_count": 312,
   "metadata": {},
   "outputs": [
    {
     "data": {
      "text/plain": [
       "Index(['acc_id', 'combat_count', 'c_etc_cnt', 'c_num_opponent', 'c_pledge_cnt',\n",
       "       'c_random_attacker_cnt', 'c_random_defender_cnt', 'c_same_pledge_cnt',\n",
       "       'c_temp_cnt', 'isMajorClass', 'combat_logged_in', 'tot_start_lv',\n",
       "       'tot_end_lv', 'changed_lv', 'avg_start_lv', 'avg_end_lv',\n",
       "       'avg_play_rate_rank_per_p', 'p_c_char_cnt', 'p_c_sum_play_time',\n",
       "       'p_etc_cnt', 'p_non_c_sum_play_time', 'p_play_char_cnt', 'p_c_cnt',\n",
       "       'p_random_attacker_cnt', 'p_random_defender_cnt', 'p_same_pledge_cnt',\n",
       "       'p_temp_cnt', 'tot_c_rank_per_p', 'pledge_num_people',\n",
       "       'pledge_logged_in', 'sell_item_amount', 'sell_item_price',\n",
       "       'get_item_amount', 'get_item_price', 'trade_time_bin_0',\n",
       "       'trade_time_bin_1', 'trade_time_bin_2', 'trade_time_bin_3',\n",
       "       'trade_type_0', 'trade_type_1', 'tot_trade_amount', 'tot_get_money',\n",
       "       'trade_logged_in', 'count_sell', 'count_get', 'total_trade_count',\n",
       "       'a_death_cnt', 'a_enchant_count', 'a_exp_recovery_cnt', 'a_fish',\n",
       "       'a_money_change', 'a_npc_kill', 'a_party_exp', 'a_playtime',\n",
       "       'a_private_shop', 'a_quest_exp', 'a_revive_cnt', 'a_boss_monster',\n",
       "       'a_solo_exp', 'tot_exp', 'fishing_prop', 'qexp_per_playtime',\n",
       "       'sexp_per_playtime', 'pexp_per_playtime', 'activity_logged_in',\n",
       "       'amount_spent', 'max_spent', 'min_spent', 'mean_spent', 'tot_spent',\n",
       "       'median_spent', 'payment_logged_in'],\n",
       "      dtype='object')"
      ]
     },
     "execution_count": 312,
     "metadata": {},
     "output_type": "execute_result"
    }
   ],
   "source": [
    "df.columns"
   ]
  },
  {
   "cell_type": "code",
   "execution_count": 271,
   "metadata": {},
   "outputs": [
    {
     "data": {
      "text/plain": [
       "72"
      ]
     },
     "execution_count": 271,
     "metadata": {},
     "output_type": "execute_result"
    }
   ],
   "source": [
    "len(cols)"
   ]
  },
  {
   "cell_type": "markdown",
   "metadata": {},
   "source": [
    "# 28일 뭉쳐서 개략적으로 corr"
   ]
  },
  {
   "cell_type": "code",
   "execution_count": 318,
   "metadata": {},
   "outputs": [],
   "source": [
    "df = df.groupby('acc_id').mean()"
   ]
  },
  {
   "cell_type": "code",
   "execution_count": 314,
   "metadata": {},
   "outputs": [],
   "source": [
    "df3 = df.values.reshape(-1,28,72)"
   ]
  },
  {
   "cell_type": "code",
   "execution_count": 315,
   "metadata": {},
   "outputs": [
    {
     "data": {
      "text/html": [
       "<div>\n",
       "<style scoped>\n",
       "    .dataframe tbody tr th:only-of-type {\n",
       "        vertical-align: middle;\n",
       "    }\n",
       "\n",
       "    .dataframe tbody tr th {\n",
       "        vertical-align: top;\n",
       "    }\n",
       "\n",
       "    .dataframe thead th {\n",
       "        text-align: right;\n",
       "    }\n",
       "</style>\n",
       "<table border=\"1\" class=\"dataframe\">\n",
       "  <thead>\n",
       "    <tr style=\"text-align: right;\">\n",
       "      <th></th>\n",
       "      <th>combat_count</th>\n",
       "      <th>c_etc_cnt</th>\n",
       "      <th>c_num_opponent</th>\n",
       "      <th>c_pledge_cnt</th>\n",
       "      <th>c_random_attacker_cnt</th>\n",
       "      <th>c_random_defender_cnt</th>\n",
       "      <th>c_same_pledge_cnt</th>\n",
       "      <th>c_temp_cnt</th>\n",
       "      <th>isMajorClass</th>\n",
       "      <th>combat_logged_in</th>\n",
       "      <th>...</th>\n",
       "      <th>sexp_per_playtime</th>\n",
       "      <th>pexp_per_playtime</th>\n",
       "      <th>activity_logged_in</th>\n",
       "      <th>amount_spent</th>\n",
       "      <th>max_spent</th>\n",
       "      <th>min_spent</th>\n",
       "      <th>mean_spent</th>\n",
       "      <th>tot_spent</th>\n",
       "      <th>median_spent</th>\n",
       "      <th>payment_logged_in</th>\n",
       "    </tr>\n",
       "    <tr>\n",
       "      <th>acc_id</th>\n",
       "      <th></th>\n",
       "      <th></th>\n",
       "      <th></th>\n",
       "      <th></th>\n",
       "      <th></th>\n",
       "      <th></th>\n",
       "      <th></th>\n",
       "      <th></th>\n",
       "      <th></th>\n",
       "      <th></th>\n",
       "      <th></th>\n",
       "      <th></th>\n",
       "      <th></th>\n",
       "      <th></th>\n",
       "      <th></th>\n",
       "      <th></th>\n",
       "      <th></th>\n",
       "      <th></th>\n",
       "      <th></th>\n",
       "      <th></th>\n",
       "      <th></th>\n",
       "    </tr>\n",
       "  </thead>\n",
       "  <tbody>\n",
       "    <tr>\n",
       "      <th>2</th>\n",
       "      <td>1.000000</td>\n",
       "      <td>0.000000</td>\n",
       "      <td>0.000000</td>\n",
       "      <td>0.000000</td>\n",
       "      <td>0.000000</td>\n",
       "      <td>0.000000</td>\n",
       "      <td>0.000000</td>\n",
       "      <td>0.000000</td>\n",
       "      <td>1.000000</td>\n",
       "      <td>1.000000</td>\n",
       "      <td>...</td>\n",
       "      <td>0.000000</td>\n",
       "      <td>0.000000</td>\n",
       "      <td>1.000000</td>\n",
       "      <td>0.000000</td>\n",
       "      <td>0.000000</td>\n",
       "      <td>0.000000</td>\n",
       "      <td>0.000000</td>\n",
       "      <td>0.000000</td>\n",
       "      <td>0.000000</td>\n",
       "      <td>0.000000</td>\n",
       "    </tr>\n",
       "    <tr>\n",
       "      <th>5</th>\n",
       "      <td>0.642857</td>\n",
       "      <td>0.000000</td>\n",
       "      <td>0.003505</td>\n",
       "      <td>0.000000</td>\n",
       "      <td>0.000000</td>\n",
       "      <td>0.000000</td>\n",
       "      <td>0.000000</td>\n",
       "      <td>0.017133</td>\n",
       "      <td>1.000000</td>\n",
       "      <td>0.357143</td>\n",
       "      <td>...</td>\n",
       "      <td>0.154602</td>\n",
       "      <td>0.030398</td>\n",
       "      <td>0.357143</td>\n",
       "      <td>0.000000</td>\n",
       "      <td>0.000000</td>\n",
       "      <td>0.000000</td>\n",
       "      <td>0.000000</td>\n",
       "      <td>0.000000</td>\n",
       "      <td>0.000000</td>\n",
       "      <td>0.000000</td>\n",
       "    </tr>\n",
       "    <tr>\n",
       "      <th>8</th>\n",
       "      <td>4.750000</td>\n",
       "      <td>0.032175</td>\n",
       "      <td>0.108643</td>\n",
       "      <td>0.004585</td>\n",
       "      <td>0.152531</td>\n",
       "      <td>0.042252</td>\n",
       "      <td>0.000000</td>\n",
       "      <td>0.137065</td>\n",
       "      <td>0.459864</td>\n",
       "      <td>1.000000</td>\n",
       "      <td>...</td>\n",
       "      <td>2.094823</td>\n",
       "      <td>0.000000</td>\n",
       "      <td>1.000000</td>\n",
       "      <td>0.050166</td>\n",
       "      <td>0.075437</td>\n",
       "      <td>0.024894</td>\n",
       "      <td>0.050166</td>\n",
       "      <td>0.100332</td>\n",
       "      <td>0.050166</td>\n",
       "      <td>0.071429</td>\n",
       "    </tr>\n",
       "    <tr>\n",
       "      <th>17</th>\n",
       "      <td>1.857143</td>\n",
       "      <td>0.024131</td>\n",
       "      <td>0.049064</td>\n",
       "      <td>0.000000</td>\n",
       "      <td>0.000000</td>\n",
       "      <td>0.084505</td>\n",
       "      <td>0.442795</td>\n",
       "      <td>0.119932</td>\n",
       "      <td>0.699405</td>\n",
       "      <td>1.000000</td>\n",
       "      <td>...</td>\n",
       "      <td>0.509362</td>\n",
       "      <td>0.608762</td>\n",
       "      <td>1.000000</td>\n",
       "      <td>0.000000</td>\n",
       "      <td>0.000000</td>\n",
       "      <td>0.000000</td>\n",
       "      <td>0.000000</td>\n",
       "      <td>0.000000</td>\n",
       "      <td>0.000000</td>\n",
       "      <td>0.000000</td>\n",
       "    </tr>\n",
       "    <tr>\n",
       "      <th>20</th>\n",
       "      <td>1.357143</td>\n",
       "      <td>0.587189</td>\n",
       "      <td>0.360974</td>\n",
       "      <td>0.045846</td>\n",
       "      <td>0.000000</td>\n",
       "      <td>0.042252</td>\n",
       "      <td>0.000000</td>\n",
       "      <td>0.017133</td>\n",
       "      <td>0.000000</td>\n",
       "      <td>0.964286</td>\n",
       "      <td>...</td>\n",
       "      <td>0.013091</td>\n",
       "      <td>0.003425</td>\n",
       "      <td>0.964286</td>\n",
       "      <td>0.032019</td>\n",
       "      <td>0.088513</td>\n",
       "      <td>0.003772</td>\n",
       "      <td>0.032019</td>\n",
       "      <td>0.096057</td>\n",
       "      <td>0.003772</td>\n",
       "      <td>0.107143</td>\n",
       "    </tr>\n",
       "  </tbody>\n",
       "</table>\n",
       "<p>5 rows × 71 columns</p>\n",
       "</div>"
      ],
      "text/plain": [
       "        combat_count  c_etc_cnt  c_num_opponent  c_pledge_cnt  \\\n",
       "acc_id                                                          \n",
       "2           1.000000   0.000000        0.000000      0.000000   \n",
       "5           0.642857   0.000000        0.003505      0.000000   \n",
       "8           4.750000   0.032175        0.108643      0.004585   \n",
       "17          1.857143   0.024131        0.049064      0.000000   \n",
       "20          1.357143   0.587189        0.360974      0.045846   \n",
       "\n",
       "        c_random_attacker_cnt  c_random_defender_cnt  c_same_pledge_cnt  \\\n",
       "acc_id                                                                    \n",
       "2                    0.000000               0.000000           0.000000   \n",
       "5                    0.000000               0.000000           0.000000   \n",
       "8                    0.152531               0.042252           0.000000   \n",
       "17                   0.000000               0.084505           0.442795   \n",
       "20                   0.000000               0.042252           0.000000   \n",
       "\n",
       "        c_temp_cnt  isMajorClass  combat_logged_in  ...  sexp_per_playtime  \\\n",
       "acc_id                                              ...                      \n",
       "2         0.000000      1.000000          1.000000  ...           0.000000   \n",
       "5         0.017133      1.000000          0.357143  ...           0.154602   \n",
       "8         0.137065      0.459864          1.000000  ...           2.094823   \n",
       "17        0.119932      0.699405          1.000000  ...           0.509362   \n",
       "20        0.017133      0.000000          0.964286  ...           0.013091   \n",
       "\n",
       "        pexp_per_playtime  activity_logged_in  amount_spent  max_spent  \\\n",
       "acc_id                                                                   \n",
       "2                0.000000            1.000000      0.000000   0.000000   \n",
       "5                0.030398            0.357143      0.000000   0.000000   \n",
       "8                0.000000            1.000000      0.050166   0.075437   \n",
       "17               0.608762            1.000000      0.000000   0.000000   \n",
       "20               0.003425            0.964286      0.032019   0.088513   \n",
       "\n",
       "        min_spent  mean_spent  tot_spent  median_spent  payment_logged_in  \n",
       "acc_id                                                                     \n",
       "2        0.000000    0.000000   0.000000      0.000000           0.000000  \n",
       "5        0.000000    0.000000   0.000000      0.000000           0.000000  \n",
       "8        0.024894    0.050166   0.100332      0.050166           0.071429  \n",
       "17       0.000000    0.000000   0.000000      0.000000           0.000000  \n",
       "20       0.003772    0.032019   0.096057      0.003772           0.107143  \n",
       "\n",
       "[5 rows x 71 columns]"
      ]
     },
     "execution_count": 315,
     "metadata": {},
     "output_type": "execute_result"
    }
   ],
   "source": [
    "df2.head()"
   ]
  },
  {
   "cell_type": "code",
   "execution_count": 316,
   "metadata": {},
   "outputs": [],
   "source": [
    "df3 = pd.DataFrame(df3.mean(axis=1), columns=cols).head()"
   ]
  },
  {
   "cell_type": "code",
   "execution_count": 317,
   "metadata": {},
   "outputs": [
    {
     "data": {
      "text/html": [
       "<div>\n",
       "<style scoped>\n",
       "    .dataframe tbody tr th:only-of-type {\n",
       "        vertical-align: middle;\n",
       "    }\n",
       "\n",
       "    .dataframe tbody tr th {\n",
       "        vertical-align: top;\n",
       "    }\n",
       "\n",
       "    .dataframe thead th {\n",
       "        text-align: right;\n",
       "    }\n",
       "</style>\n",
       "<table border=\"1\" class=\"dataframe\">\n",
       "  <thead>\n",
       "    <tr style=\"text-align: right;\">\n",
       "      <th></th>\n",
       "      <th>acc_id</th>\n",
       "      <th>combat_count</th>\n",
       "      <th>c_etc_cnt</th>\n",
       "      <th>c_num_opponent</th>\n",
       "      <th>c_pledge_cnt</th>\n",
       "      <th>c_random_attacker_cnt</th>\n",
       "      <th>c_random_defender_cnt</th>\n",
       "      <th>c_same_pledge_cnt</th>\n",
       "      <th>c_temp_cnt</th>\n",
       "      <th>isMajorClass</th>\n",
       "      <th>...</th>\n",
       "      <th>sexp_per_playtime</th>\n",
       "      <th>pexp_per_playtime</th>\n",
       "      <th>activity_logged_in</th>\n",
       "      <th>amount_spent</th>\n",
       "      <th>max_spent</th>\n",
       "      <th>min_spent</th>\n",
       "      <th>mean_spent</th>\n",
       "      <th>tot_spent</th>\n",
       "      <th>median_spent</th>\n",
       "      <th>payment_logged_in</th>\n",
       "    </tr>\n",
       "  </thead>\n",
       "  <tbody>\n",
       "    <tr>\n",
       "      <th>0</th>\n",
       "      <td>2.0</td>\n",
       "      <td>1.000000</td>\n",
       "      <td>0.000000</td>\n",
       "      <td>0.000000</td>\n",
       "      <td>0.000000</td>\n",
       "      <td>0.000000</td>\n",
       "      <td>0.000000</td>\n",
       "      <td>0.000000</td>\n",
       "      <td>0.000000</td>\n",
       "      <td>1.000000</td>\n",
       "      <td>...</td>\n",
       "      <td>0.000000</td>\n",
       "      <td>0.000000</td>\n",
       "      <td>1.000000</td>\n",
       "      <td>0.000000</td>\n",
       "      <td>0.000000</td>\n",
       "      <td>0.000000</td>\n",
       "      <td>0.000000</td>\n",
       "      <td>0.000000</td>\n",
       "      <td>0.000000</td>\n",
       "      <td>0.000000</td>\n",
       "    </tr>\n",
       "    <tr>\n",
       "      <th>1</th>\n",
       "      <td>5.0</td>\n",
       "      <td>0.642857</td>\n",
       "      <td>0.000000</td>\n",
       "      <td>0.003505</td>\n",
       "      <td>0.000000</td>\n",
       "      <td>0.000000</td>\n",
       "      <td>0.000000</td>\n",
       "      <td>0.000000</td>\n",
       "      <td>0.017133</td>\n",
       "      <td>1.000000</td>\n",
       "      <td>...</td>\n",
       "      <td>0.154602</td>\n",
       "      <td>0.030398</td>\n",
       "      <td>0.357143</td>\n",
       "      <td>0.000000</td>\n",
       "      <td>0.000000</td>\n",
       "      <td>0.000000</td>\n",
       "      <td>0.000000</td>\n",
       "      <td>0.000000</td>\n",
       "      <td>0.000000</td>\n",
       "      <td>0.000000</td>\n",
       "    </tr>\n",
       "    <tr>\n",
       "      <th>2</th>\n",
       "      <td>8.0</td>\n",
       "      <td>4.750000</td>\n",
       "      <td>0.032175</td>\n",
       "      <td>0.108643</td>\n",
       "      <td>0.004585</td>\n",
       "      <td>0.152531</td>\n",
       "      <td>0.042252</td>\n",
       "      <td>0.000000</td>\n",
       "      <td>0.137065</td>\n",
       "      <td>0.459864</td>\n",
       "      <td>...</td>\n",
       "      <td>2.094823</td>\n",
       "      <td>0.000000</td>\n",
       "      <td>1.000000</td>\n",
       "      <td>0.050166</td>\n",
       "      <td>0.075437</td>\n",
       "      <td>0.024894</td>\n",
       "      <td>0.050166</td>\n",
       "      <td>0.100332</td>\n",
       "      <td>0.050166</td>\n",
       "      <td>0.071429</td>\n",
       "    </tr>\n",
       "    <tr>\n",
       "      <th>3</th>\n",
       "      <td>17.0</td>\n",
       "      <td>1.857143</td>\n",
       "      <td>0.024131</td>\n",
       "      <td>0.049064</td>\n",
       "      <td>0.000000</td>\n",
       "      <td>0.000000</td>\n",
       "      <td>0.084505</td>\n",
       "      <td>0.442795</td>\n",
       "      <td>0.119932</td>\n",
       "      <td>0.699405</td>\n",
       "      <td>...</td>\n",
       "      <td>0.509362</td>\n",
       "      <td>0.608762</td>\n",
       "      <td>1.000000</td>\n",
       "      <td>0.000000</td>\n",
       "      <td>0.000000</td>\n",
       "      <td>0.000000</td>\n",
       "      <td>0.000000</td>\n",
       "      <td>0.000000</td>\n",
       "      <td>0.000000</td>\n",
       "      <td>0.000000</td>\n",
       "    </tr>\n",
       "    <tr>\n",
       "      <th>4</th>\n",
       "      <td>20.0</td>\n",
       "      <td>1.357143</td>\n",
       "      <td>0.587189</td>\n",
       "      <td>0.360974</td>\n",
       "      <td>0.045846</td>\n",
       "      <td>0.000000</td>\n",
       "      <td>0.042252</td>\n",
       "      <td>0.000000</td>\n",
       "      <td>0.017133</td>\n",
       "      <td>0.000000</td>\n",
       "      <td>...</td>\n",
       "      <td>0.013091</td>\n",
       "      <td>0.003425</td>\n",
       "      <td>0.964286</td>\n",
       "      <td>0.032019</td>\n",
       "      <td>0.088513</td>\n",
       "      <td>0.003772</td>\n",
       "      <td>0.032019</td>\n",
       "      <td>0.096057</td>\n",
       "      <td>0.003772</td>\n",
       "      <td>0.107143</td>\n",
       "    </tr>\n",
       "  </tbody>\n",
       "</table>\n",
       "<p>5 rows × 72 columns</p>\n",
       "</div>"
      ],
      "text/plain": [
       "   acc_id  combat_count  c_etc_cnt  c_num_opponent  c_pledge_cnt  \\\n",
       "0     2.0      1.000000   0.000000        0.000000      0.000000   \n",
       "1     5.0      0.642857   0.000000        0.003505      0.000000   \n",
       "2     8.0      4.750000   0.032175        0.108643      0.004585   \n",
       "3    17.0      1.857143   0.024131        0.049064      0.000000   \n",
       "4    20.0      1.357143   0.587189        0.360974      0.045846   \n",
       "\n",
       "   c_random_attacker_cnt  c_random_defender_cnt  c_same_pledge_cnt  \\\n",
       "0               0.000000               0.000000           0.000000   \n",
       "1               0.000000               0.000000           0.000000   \n",
       "2               0.152531               0.042252           0.000000   \n",
       "3               0.000000               0.084505           0.442795   \n",
       "4               0.000000               0.042252           0.000000   \n",
       "\n",
       "   c_temp_cnt  isMajorClass  ...  sexp_per_playtime  pexp_per_playtime  \\\n",
       "0    0.000000      1.000000  ...           0.000000           0.000000   \n",
       "1    0.017133      1.000000  ...           0.154602           0.030398   \n",
       "2    0.137065      0.459864  ...           2.094823           0.000000   \n",
       "3    0.119932      0.699405  ...           0.509362           0.608762   \n",
       "4    0.017133      0.000000  ...           0.013091           0.003425   \n",
       "\n",
       "   activity_logged_in  amount_spent  max_spent  min_spent  mean_spent  \\\n",
       "0            1.000000      0.000000   0.000000   0.000000    0.000000   \n",
       "1            0.357143      0.000000   0.000000   0.000000    0.000000   \n",
       "2            1.000000      0.050166   0.075437   0.024894    0.050166   \n",
       "3            1.000000      0.000000   0.000000   0.000000    0.000000   \n",
       "4            0.964286      0.032019   0.088513   0.003772    0.032019   \n",
       "\n",
       "   tot_spent  median_spent  payment_logged_in  \n",
       "0   0.000000      0.000000           0.000000  \n",
       "1   0.000000      0.000000           0.000000  \n",
       "2   0.100332      0.050166           0.071429  \n",
       "3   0.000000      0.000000           0.000000  \n",
       "4   0.096057      0.003772           0.107143  \n",
       "\n",
       "[5 rows x 72 columns]"
      ]
     },
     "execution_count": 317,
     "metadata": {},
     "output_type": "execute_result"
    }
   ],
   "source": [
    "df3"
   ]
  },
  {
   "cell_type": "code",
   "execution_count": 319,
   "metadata": {},
   "outputs": [
    {
     "data": {
      "text/plain": [
       "(40000, 71)"
      ]
     },
     "execution_count": 319,
     "metadata": {},
     "output_type": "execute_result"
    }
   ],
   "source": [
    "df.shape"
   ]
  },
  {
   "cell_type": "code",
   "execution_count": 320,
   "metadata": {},
   "outputs": [
    {
     "data": {
      "text/plain": [
       "(40000, 73)"
      ]
     },
     "execution_count": 320,
     "metadata": {},
     "output_type": "execute_result"
    }
   ],
   "source": [
    "res = np.concatenate((df, label[['amount_spent', 'isSurvival']]), axis=1)\n",
    "res.shape"
   ]
  },
  {
   "cell_type": "code",
   "execution_count": 321,
   "metadata": {},
   "outputs": [],
   "source": [
    "# amount_spent 컬럼명이 train dataset 꺼와 중복이라 변경\n",
    "cols = list(cols)\n",
    "cols.pop(0) # pop 'acc_id'\n",
    "cols.append('label_amount_spent')\n",
    "cols.append('label_isSurvival')\n"
   ]
  },
  {
   "cell_type": "code",
   "execution_count": 322,
   "metadata": {},
   "outputs": [
    {
     "data": {
      "text/plain": [
       "73"
      ]
     },
     "execution_count": 322,
     "metadata": {},
     "output_type": "execute_result"
    }
   ],
   "source": [
    "len(cols)"
   ]
  },
  {
   "cell_type": "code",
   "execution_count": 323,
   "metadata": {},
   "outputs": [],
   "source": [
    "df = pd.DataFrame(res, index=ids, columns=cols)"
   ]
  },
  {
   "cell_type": "code",
   "execution_count": 324,
   "metadata": {},
   "outputs": [],
   "source": [
    "cor = df.corr(method='spearman').drop(['label_isSurvival','label_amount_spent'])\n",
    "sur = cor.sort_values('label_isSurvival', ascending=False).label_isSurvival\n",
    "amo = cor.sort_values('label_amount_spent', ascending=False).label_amount_spent"
   ]
  },
  {
   "cell_type": "code",
   "execution_count": 325,
   "metadata": {},
   "outputs": [
    {
     "data": {
      "text/plain": [
       "payment_logged_in        0.647643\n",
       "tot_spent                0.645074\n",
       "max_spent                0.637380\n",
       "amount_spent             0.627962\n",
       "mean_spent               0.627950\n",
       "median_spent             0.607893\n",
       "a_fish                   0.558783\n",
       "min_spent                0.513003\n",
       "fishing_prop             0.493342\n",
       "a_boss_monster           0.468405\n",
       "get_item_amount          0.424854\n",
       "tot_c_rank_per_p         0.413670\n",
       "p_c_cnt                  0.400807\n",
       "tot_start_lv             0.396111\n",
       "tot_end_lv               0.392950\n",
       "p_same_pledge_cnt        0.392648\n",
       "p_random_attacker_cnt    0.392578\n",
       "count_get                0.380361\n",
       "p_temp_cnt               0.364158\n",
       "c_num_opponent           0.357983\n",
       "p_etc_cnt                0.357941\n",
       "p_c_char_cnt             0.355829\n",
       "c_pledge_cnt             0.337994\n",
       "pledge_num_people        0.337626\n",
       "c_temp_cnt               0.336778\n",
       "a_quest_exp              0.333632\n",
       "trade_type_1             0.326761\n",
       "get_item_price           0.321243\n",
       "c_etc_cnt                0.314348\n",
       "a_npc_kill               0.302320\n",
       "                           ...   \n",
       "trade_type_0             0.223828\n",
       "trade_logged_in          0.222270\n",
       "pledge_logged_in         0.221745\n",
       "pexp_per_playtime        0.217291\n",
       "p_random_defender_cnt    0.217142\n",
       "a_solo_exp               0.216300\n",
       "sexp_per_playtime        0.204623\n",
       "sell_item_price          0.198237\n",
       "c_random_attacker_cnt    0.187365\n",
       "a_death_cnt              0.185361\n",
       "a_exp_recovery_cnt       0.165747\n",
       "count_sell               0.154677\n",
       "trade_time_bin_2         0.153173\n",
       "tot_exp                  0.146175\n",
       "trade_time_bin_0         0.135697\n",
       "sell_item_amount         0.127093\n",
       "c_random_defender_cnt    0.126984\n",
       "avg_start_lv             0.123789\n",
       "avg_end_lv               0.106851\n",
       "trade_time_bin_1         0.084292\n",
       "a_enchant_count          0.068638\n",
       "activity_logged_in       0.033550\n",
       "combat_logged_in         0.033550\n",
       "changed_lv               0.015350\n",
       "a_money_change           0.002901\n",
       "isMajorClass            -0.007190\n",
       "p_non_c_sum_play_time   -0.012945\n",
       "a_playtime              -0.126477\n",
       "a_private_shop          -0.154825\n",
       "tot_get_money           -0.167217\n",
       "Name: label_amount_spent, Length: 71, dtype: float64"
      ]
     },
     "execution_count": 325,
     "metadata": {},
     "output_type": "execute_result"
    }
   ],
   "source": [
    "amo"
   ]
  },
  {
   "cell_type": "code",
   "execution_count": 292,
   "metadata": {},
   "outputs": [],
   "source": [
    "droplist = sur[abs(sur)<0.07].index"
   ]
  },
  {
   "cell_type": "code",
   "execution_count": 293,
   "metadata": {},
   "outputs": [
    {
     "data": {
      "text/plain": [
       "Index(['c_pledge_cnt', 'tot_spent', 'amount_spent', 'mean_spent',\n",
       "       'payment_logged_in', 'tot_get_money', 'p_same_pledge_cnt',\n",
       "       'median_spent', 'avg_start_lv', 'p_random_attacker_cnt', 'isMajorClass',\n",
       "       'avg_end_lv', 'c_num_opponent', 'a_enchant_count', 'min_spent',\n",
       "       'c_etc_cnt', 'c_random_defender_cnt', 'pledge_num_people',\n",
       "       'a_exp_recovery_cnt', 'p_c_cnt', 'tot_c_rank_per_p', 'a_party_exp',\n",
       "       'a_money_change', 'p_temp_cnt', 'pexp_per_playtime',\n",
       "       'p_non_c_sum_play_time', 'a_revive_cnt', 'p_etc_cnt'],\n",
       "      dtype='object')"
      ]
     },
     "execution_count": 293,
     "metadata": {},
     "output_type": "execute_result"
    }
   ],
   "source": [
    "droplist"
   ]
  },
  {
   "cell_type": "code",
   "execution_count": 299,
   "metadata": {},
   "outputs": [
    {
     "data": {
      "text/plain": [
       "71"
      ]
     },
     "execution_count": 299,
     "metadata": {},
     "output_type": "execute_result"
    }
   ],
   "source": [
    "len(amo)"
   ]
  },
  {
   "cell_type": "code",
   "execution_count": 303,
   "metadata": {},
   "outputs": [
    {
     "data": {
      "text/plain": [
       "payment_logged_in           0.647643\n",
       "tot_spent                   0.645074\n",
       "max_spent                   0.637380\n",
       "amount_spent                0.627962\n",
       "mean_spent                  0.627950\n",
       "median_spent                0.607893\n",
       "a_fish                      0.558783\n",
       "min_spent                   0.513003\n",
       "fishing_prop                0.493342\n",
       "a_boss_monster              0.468405\n",
       "get_item_amount             0.424854\n",
       "tot_c_rank_per_p            0.413670\n",
       "p_c_cnt                     0.400807\n",
       "tot_start_lv                0.396111\n",
       "tot_end_lv                  0.392950\n",
       "p_same_pledge_cnt           0.392648\n",
       "p_random_attacker_cnt       0.392578\n",
       "count_get                   0.380361\n",
       "p_temp_cnt                  0.364158\n",
       "c_num_opponent              0.357983\n",
       "p_etc_cnt                   0.357941\n",
       "p_c_char_cnt                0.355829\n",
       "c_pledge_cnt                0.337994\n",
       "pledge_num_people           0.337626\n",
       "c_temp_cnt                  0.336778\n",
       "a_quest_exp                 0.333632\n",
       "trade_type_1                0.326761\n",
       "get_item_price              0.321243\n",
       "c_etc_cnt                   0.314348\n",
       "a_npc_kill                  0.302320\n",
       "avg_play_rate_rank_per_p    0.300532\n",
       "Name: label_amount_spent, dtype: float64"
      ]
     },
     "execution_count": 303,
     "metadata": {},
     "output_type": "execute_result"
    }
   ],
   "source": [
    "amo[abs(amo)>0.3]"
   ]
  },
  {
   "cell_type": "code",
   "execution_count": 294,
   "metadata": {},
   "outputs": [
    {
     "data": {
      "text/plain": [
       "activity_logged_in          0.371275\n",
       "combat_logged_in            0.371275\n",
       "a_playtime                  0.295498\n",
       "trade_logged_in             0.293786\n",
       "sell_item_price             0.290888\n",
       "count_sell                  0.279258\n",
       "sell_item_amount            0.271477\n",
       "combat_count                0.267184\n",
       "trade_type_0                0.255549\n",
       "get_item_price              0.252454\n",
       "trade_time_bin_3            0.251793\n",
       "trade_time_bin_2            0.231721\n",
       "tot_trade_amount            0.228767\n",
       "total_trade_count           0.224007\n",
       "a_private_shop              0.223550\n",
       "trade_time_bin_0            0.206159\n",
       "trade_time_bin_1            0.196969\n",
       "count_get                   0.191740\n",
       "a_fish                      0.174469\n",
       "trade_type_1                0.172122\n",
       "a_boss_monster              0.145595\n",
       "fishing_prop                0.143418\n",
       "get_item_amount             0.135229\n",
       "tot_start_lv                0.122068\n",
       "pledge_logged_in            0.116991\n",
       "c_temp_cnt                  0.116852\n",
       "tot_end_lv                  0.115842\n",
       "a_npc_kill                  0.102223\n",
       "c_same_pledge_cnt           0.077122\n",
       "c_random_attacker_cnt       0.073432\n",
       "max_spent                   0.071701\n",
       "p_c_sum_play_time          -0.073094\n",
       "p_c_char_cnt               -0.080026\n",
       "a_death_cnt                -0.084374\n",
       "p_random_defender_cnt      -0.088542\n",
       "avg_play_rate_rank_per_p   -0.114791\n",
       "p_play_char_cnt            -0.117910\n",
       "a_quest_exp                -0.125530\n",
       "changed_lv                 -0.148582\n",
       "qexp_per_playtime          -0.161982\n",
       "a_solo_exp                 -0.180895\n",
       "sexp_per_playtime          -0.203720\n",
       "tot_exp                    -0.224486\n",
       "Name: label_isSurvival, dtype: float64"
      ]
     },
     "execution_count": 294,
     "metadata": {},
     "output_type": "execute_result"
    }
   ],
   "source": [
    "sur[abs(sur)>0.07]"
   ]
  },
  {
   "cell_type": "code",
   "execution_count": 284,
   "metadata": {},
   "outputs": [
    {
     "data": {
      "text/plain": [
       "<matplotlib.axes._subplots.AxesSubplot at 0x1dd9dcd66a0>"
      ]
     },
     "execution_count": 284,
     "metadata": {},
     "output_type": "execute_result"
    },
    {
     "data": {
      "text/plain": [
       "<Figure size 648x648 with 0 Axes>"
      ]
     },
     "metadata": {},
     "output_type": "display_data"
    },
    {
     "data": {
      "image/png": "[encoded data removed]",
      "text/plain": [
       "<Figure size 1440x1440 with 1 Axes>"
      ]
     },
     "metadata": {
      "needs_background": "light"
     },
     "output_type": "display_data"
    }
   ],
   "source": [
    "plt.figure(figsize=(9,9))\n",
    "df_cor = pd.DataFrame({'isSurvival_corr':sur, 'amount_spent_corr':amo})\n",
    "df_cor.plot.bar(figsize=(20,20))\n"
   ]
  },
  {
   "cell_type": "code",
   "execution_count": 212,
   "metadata": {},
   "outputs": [
    {
     "ename": "ValueError",
     "evalue": "Shape of passed values is (73, 1), indices imply (40000, 74)",
     "output_type": "error",
     "traceback": [
      "\u001b[1;31m---------------------------------------------------------------------------\u001b[0m",
      "\u001b[1;31mValueError\u001b[0m                                Traceback (most recent call last)",
      "\u001b[1;32m~\\Anaconda3\\envs\\kaggle\\lib\\site-packages\\pandas\\core\\internals\\managers.py\u001b[0m in \u001b[0;36mcreate_block_manager_from_blocks\u001b[1;34m(blocks, axes)\u001b[0m\n\u001b[0;32m   1650\u001b[0m                 blocks = [make_block(values=blocks[0],\n\u001b[1;32m-> 1651\u001b[1;33m                                      placement=slice(0, len(axes[0])))]\n\u001b[0m\u001b[0;32m   1652\u001b[0m \u001b[1;33m\u001b[0m\u001b[0m\n",
      "\u001b[1;32m~\\Anaconda3\\envs\\kaggle\\lib\\site-packages\\pandas\\core\\internals\\blocks.py\u001b[0m in \u001b[0;36mmake_block\u001b[1;34m(values, placement, klass, ndim, dtype, fastpath)\u001b[0m\n\u001b[0;32m   3094\u001b[0m \u001b[1;33m\u001b[0m\u001b[0m\n\u001b[1;32m-> 3095\u001b[1;33m     \u001b[1;32mreturn\u001b[0m \u001b[0mklass\u001b[0m\u001b[1;33m(\u001b[0m\u001b[0mvalues\u001b[0m\u001b[1;33m,\u001b[0m \u001b[0mndim\u001b[0m\u001b[1;33m=\u001b[0m\u001b[0mndim\u001b[0m\u001b[1;33m,\u001b[0m \u001b[0mplacement\u001b[0m\u001b[1;33m=\u001b[0m\u001b[0mplacement\u001b[0m\u001b[1;33m)\u001b[0m\u001b[1;33m\u001b[0m\u001b[1;33m\u001b[0m\u001b[0m\n\u001b[0m\u001b[0;32m   3096\u001b[0m \u001b[1;33m\u001b[0m\u001b[0m\n",
      "\u001b[1;32m~\\Anaconda3\\envs\\kaggle\\lib\\site-packages\\pandas\\core\\internals\\blocks.py\u001b[0m in \u001b[0;36m__init__\u001b[1;34m(self, values, placement, ndim)\u001b[0m\n\u001b[0;32m     86\u001b[0m                 \u001b[1;34m'Wrong number of items passed {val}, placement implies '\u001b[0m\u001b[1;33m\u001b[0m\u001b[1;33m\u001b[0m\u001b[0m\n\u001b[1;32m---> 87\u001b[1;33m                 '{mgr}'.format(val=len(self.values), mgr=len(self.mgr_locs)))\n\u001b[0m\u001b[0;32m     88\u001b[0m \u001b[1;33m\u001b[0m\u001b[0m\n",
      "\u001b[1;31mValueError\u001b[0m: Wrong number of items passed 1, placement implies 74",
      "\nDuring handling of the above exception, another exception occurred:\n",
      "\u001b[1;31mValueError\u001b[0m                                Traceback (most recent call last)",
      "\u001b[1;32m<ipython-input-212-2171372ca535>\u001b[0m in \u001b[0;36m<module>\u001b[1;34m\u001b[0m\n\u001b[0;32m      8\u001b[0m \u001b[0mdf_list\u001b[0m \u001b[1;33m=\u001b[0m \u001b[1;33m[\u001b[0m\u001b[1;33m]\u001b[0m\u001b[1;33m\u001b[0m\u001b[1;33m\u001b[0m\u001b[0m\n\u001b[0;32m      9\u001b[0m \u001b[1;32mfor\u001b[0m \u001b[0mday\u001b[0m \u001b[1;32min\u001b[0m \u001b[0mrange\u001b[0m\u001b[1;33m(\u001b[0m\u001b[0mlen\u001b[0m\u001b[1;33m(\u001b[0m\u001b[0mdays\u001b[0m\u001b[1;33m)\u001b[0m\u001b[1;33m)\u001b[0m\u001b[1;33m:\u001b[0m\u001b[1;33m\u001b[0m\u001b[1;33m\u001b[0m\u001b[0m\n\u001b[1;32m---> 10\u001b[1;33m     \u001b[0mdf_list\u001b[0m\u001b[1;33m.\u001b[0m\u001b[0mappend\u001b[0m\u001b[1;33m(\u001b[0m\u001b[0mpd\u001b[0m\u001b[1;33m.\u001b[0m\u001b[0mDataFrame\u001b[0m\u001b[1;33m(\u001b[0m\u001b[0mres\u001b[0m\u001b[1;33m[\u001b[0m\u001b[0mday\u001b[0m\u001b[1;33m]\u001b[0m\u001b[1;33m,\u001b[0m \u001b[0mindex\u001b[0m\u001b[1;33m=\u001b[0m\u001b[0mids\u001b[0m\u001b[1;33m,\u001b[0m \u001b[0mcolumns\u001b[0m\u001b[1;33m=\u001b[0m\u001b[0mcols\u001b[0m\u001b[1;33m)\u001b[0m\u001b[1;33m.\u001b[0m\u001b[0mset_index\u001b[0m\u001b[1;33m(\u001b[0m\u001b[1;34m'acc_id'\u001b[0m\u001b[1;33m)\u001b[0m\u001b[1;33m)\u001b[0m\u001b[1;33m\u001b[0m\u001b[1;33m\u001b[0m\u001b[0m\n\u001b[0m",
      "\u001b[1;32m~\\Anaconda3\\envs\\kaggle\\lib\\site-packages\\pandas\\core\\frame.py\u001b[0m in \u001b[0;36m__init__\u001b[1;34m(self, data, index, columns, dtype, copy)\u001b[0m\n\u001b[0;32m    422\u001b[0m             \u001b[1;32melse\u001b[0m\u001b[1;33m:\u001b[0m\u001b[1;33m\u001b[0m\u001b[1;33m\u001b[0m\u001b[0m\n\u001b[0;32m    423\u001b[0m                 mgr = init_ndarray(data, index, columns, dtype=dtype,\n\u001b[1;32m--> 424\u001b[1;33m                                    copy=copy)\n\u001b[0m\u001b[0;32m    425\u001b[0m \u001b[1;33m\u001b[0m\u001b[0m\n\u001b[0;32m    426\u001b[0m         \u001b[1;31m# For data is list-like, or Iterable (will consume into list)\u001b[0m\u001b[1;33m\u001b[0m\u001b[1;33m\u001b[0m\u001b[1;33m\u001b[0m\u001b[0m\n",
      "\u001b[1;32m~\\Anaconda3\\envs\\kaggle\\lib\\site-packages\\pandas\\core\\internals\\construction.py\u001b[0m in \u001b[0;36minit_ndarray\u001b[1;34m(values, index, columns, dtype, copy)\u001b[0m\n\u001b[0;32m    165\u001b[0m         \u001b[0mvalues\u001b[0m \u001b[1;33m=\u001b[0m \u001b[0mmaybe_infer_to_datetimelike\u001b[0m\u001b[1;33m(\u001b[0m\u001b[0mvalues\u001b[0m\u001b[1;33m)\u001b[0m\u001b[1;33m\u001b[0m\u001b[1;33m\u001b[0m\u001b[0m\n\u001b[0;32m    166\u001b[0m \u001b[1;33m\u001b[0m\u001b[0m\n\u001b[1;32m--> 167\u001b[1;33m     \u001b[1;32mreturn\u001b[0m \u001b[0mcreate_block_manager_from_blocks\u001b[0m\u001b[1;33m(\u001b[0m\u001b[1;33m[\u001b[0m\u001b[0mvalues\u001b[0m\u001b[1;33m]\u001b[0m\u001b[1;33m,\u001b[0m \u001b[1;33m[\u001b[0m\u001b[0mcolumns\u001b[0m\u001b[1;33m,\u001b[0m \u001b[0mindex\u001b[0m\u001b[1;33m]\u001b[0m\u001b[1;33m)\u001b[0m\u001b[1;33m\u001b[0m\u001b[1;33m\u001b[0m\u001b[0m\n\u001b[0m\u001b[0;32m    168\u001b[0m \u001b[1;33m\u001b[0m\u001b[0m\n\u001b[0;32m    169\u001b[0m \u001b[1;33m\u001b[0m\u001b[0m\n",
      "\u001b[1;32m~\\Anaconda3\\envs\\kaggle\\lib\\site-packages\\pandas\\core\\internals\\managers.py\u001b[0m in \u001b[0;36mcreate_block_manager_from_blocks\u001b[1;34m(blocks, axes)\u001b[0m\n\u001b[0;32m   1658\u001b[0m         \u001b[0mblocks\u001b[0m \u001b[1;33m=\u001b[0m \u001b[1;33m[\u001b[0m\u001b[0mgetattr\u001b[0m\u001b[1;33m(\u001b[0m\u001b[0mb\u001b[0m\u001b[1;33m,\u001b[0m \u001b[1;34m'values'\u001b[0m\u001b[1;33m,\u001b[0m \u001b[0mb\u001b[0m\u001b[1;33m)\u001b[0m \u001b[1;32mfor\u001b[0m \u001b[0mb\u001b[0m \u001b[1;32min\u001b[0m \u001b[0mblocks\u001b[0m\u001b[1;33m]\u001b[0m\u001b[1;33m\u001b[0m\u001b[1;33m\u001b[0m\u001b[0m\n\u001b[0;32m   1659\u001b[0m         \u001b[0mtot_items\u001b[0m \u001b[1;33m=\u001b[0m \u001b[0msum\u001b[0m\u001b[1;33m(\u001b[0m\u001b[0mb\u001b[0m\u001b[1;33m.\u001b[0m\u001b[0mshape\u001b[0m\u001b[1;33m[\u001b[0m\u001b[1;36m0\u001b[0m\u001b[1;33m]\u001b[0m \u001b[1;32mfor\u001b[0m \u001b[0mb\u001b[0m \u001b[1;32min\u001b[0m \u001b[0mblocks\u001b[0m\u001b[1;33m)\u001b[0m\u001b[1;33m\u001b[0m\u001b[1;33m\u001b[0m\u001b[0m\n\u001b[1;32m-> 1660\u001b[1;33m         \u001b[0mconstruction_error\u001b[0m\u001b[1;33m(\u001b[0m\u001b[0mtot_items\u001b[0m\u001b[1;33m,\u001b[0m \u001b[0mblocks\u001b[0m\u001b[1;33m[\u001b[0m\u001b[1;36m0\u001b[0m\u001b[1;33m]\u001b[0m\u001b[1;33m.\u001b[0m\u001b[0mshape\u001b[0m\u001b[1;33m[\u001b[0m\u001b[1;36m1\u001b[0m\u001b[1;33m:\u001b[0m\u001b[1;33m]\u001b[0m\u001b[1;33m,\u001b[0m \u001b[0maxes\u001b[0m\u001b[1;33m,\u001b[0m \u001b[0me\u001b[0m\u001b[1;33m)\u001b[0m\u001b[1;33m\u001b[0m\u001b[1;33m\u001b[0m\u001b[0m\n\u001b[0m\u001b[0;32m   1661\u001b[0m \u001b[1;33m\u001b[0m\u001b[0m\n\u001b[0;32m   1662\u001b[0m \u001b[1;33m\u001b[0m\u001b[0m\n",
      "\u001b[1;32m~\\Anaconda3\\envs\\kaggle\\lib\\site-packages\\pandas\\core\\internals\\managers.py\u001b[0m in \u001b[0;36mconstruction_error\u001b[1;34m(tot_items, block_shape, axes, e)\u001b[0m\n\u001b[0;32m   1689\u001b[0m         \u001b[1;32mraise\u001b[0m \u001b[0mValueError\u001b[0m\u001b[1;33m(\u001b[0m\u001b[1;34m\"Empty data passed with indices specified.\"\u001b[0m\u001b[1;33m)\u001b[0m\u001b[1;33m\u001b[0m\u001b[1;33m\u001b[0m\u001b[0m\n\u001b[0;32m   1690\u001b[0m     raise ValueError(\"Shape of passed values is {0}, indices imply {1}\".format(\n\u001b[1;32m-> 1691\u001b[1;33m         passed, implied))\n\u001b[0m\u001b[0;32m   1692\u001b[0m \u001b[1;33m\u001b[0m\u001b[0m\n\u001b[0;32m   1693\u001b[0m \u001b[1;33m\u001b[0m\u001b[0m\n",
      "\u001b[1;31mValueError\u001b[0m: Shape of passed values is (73, 1), indices imply (40000, 74)"
     ]
    }
   ],
   "source": [
    "res = np.concatenate((df, label[['amount_spent', 'isSurvival']]), axis=1)\n",
    "\n",
    "# amount_spent 컬럼명이 train dataset 꺼와 중복이라 변경\n",
    "cols = list(cols)\n",
    "cols.append('label_amount_spent')\n",
    "cols.append('label_isSurvival')\n",
    "\n",
    "df_list = []\n",
    "for day in range(len(days)):\n",
    "    df_list.append(pd.DataFrame(res[day], index=ids, columns=cols).set_index('acc_id'))"
   ]
  },
  {
   "cell_type": "code",
   "execution_count": null,
   "metadata": {},
   "outputs": [],
   "source": [
    "cor = df.corr(method='spearman').drop(['label_isSurvival','label_amount_spent'])\n",
    "sur = cor.sort_values('label_isSurvival', ascending=False).label_isSurvival\n",
    "amo = cor.sort_values('label_amount_spent', ascending=False).label_amount_spent"
   ]
  },
  {
   "cell_type": "markdown",
   "metadata": {},
   "source": [
    "# 28일 각각의 corr "
   ]
  },
  {
   "cell_type": "code",
   "execution_count": 162,
   "metadata": {},
   "outputs": [
    {
     "name": "stdout",
     "output_type": "stream",
     "text": [
      "(1120000, 72)\n",
      "(40000, 28, 72)\n",
      "(28, 40000, 72)\n"
     ]
    }
   ],
   "source": [
    "df = np.asarray(df)\n",
    "print(df.shape)\n",
    "df = df.reshape(-1,28,72)\n",
    "print(df.shape)\n",
    "df = df.transpose(1,0,2) # 각 날짜에 대한 전체 유저 정보\n",
    "print(df.shape)"
   ]
  },
  {
   "cell_type": "code",
   "execution_count": 163,
   "metadata": {},
   "outputs": [
    {
     "data": {
      "text/plain": [
       "(40000, 2)"
      ]
     },
     "execution_count": 163,
     "metadata": {},
     "output_type": "execute_result"
    }
   ],
   "source": [
    "label[['amount_spent', 'isSurvival']].shape"
   ]
  },
  {
   "cell_type": "code",
   "execution_count": 164,
   "metadata": {},
   "outputs": [
    {
     "name": "stdout",
     "output_type": "stream",
     "text": [
      "(28, 40000, 74)\n"
     ]
    }
   ],
   "source": [
    "res = []\n",
    "for data_a_day in df:\n",
    "    res.append(np.concatenate((data_a_day, label[['amount_spent', 'isSurvival']]), axis=1))\n",
    "res = np.asarray(res)\n",
    "print(res.shape) # label amoun_spent, isSurvival 추가된 상태"
   ]
  },
  {
   "cell_type": "code",
   "execution_count": 166,
   "metadata": {},
   "outputs": [],
   "source": [
    "# amount_spent 컬럼명이 train dataset 꺼와 중복이라 변경\n",
    "cols = list(cols)\n",
    "cols.append('label_amount_spent')\n",
    "cols.append('label_isSurvival')"
   ]
  },
  {
   "cell_type": "code",
   "execution_count": 189,
   "metadata": {},
   "outputs": [],
   "source": [
    "df_list = []\n",
    "for day in range(len(days)):\n",
    "    df_list.append(pd.DataFrame(res[day], index=ids, columns=cols).set_index('acc_id'))"
   ]
  },
  {
   "cell_type": "code",
   "execution_count": 200,
   "metadata": {},
   "outputs": [
    {
     "ename": "KeyboardInterrupt",
     "evalue": "",
     "output_type": "error",
     "traceback": [
      "\u001b[1;31m---------------------------------------------------------------------------\u001b[0m",
      "\u001b[1;31mKeyboardInterrupt\u001b[0m                         Traceback (most recent call last)",
      "\u001b[1;32m<ipython-input-200-f7eb0884ced3>\u001b[0m in \u001b[0;36m<module>\u001b[1;34m\u001b[0m\n\u001b[0;32m      2\u001b[0m \u001b[0mamo_list\u001b[0m \u001b[1;33m=\u001b[0m \u001b[1;33m[\u001b[0m\u001b[1;33m]\u001b[0m\u001b[1;33m\u001b[0m\u001b[1;33m\u001b[0m\u001b[0m\n\u001b[0;32m      3\u001b[0m \u001b[1;32mfor\u001b[0m \u001b[0mdf\u001b[0m \u001b[1;32min\u001b[0m \u001b[0mdf_list\u001b[0m\u001b[1;33m:\u001b[0m\u001b[1;33m\u001b[0m\u001b[1;33m\u001b[0m\u001b[0m\n\u001b[1;32m----> 4\u001b[1;33m     \u001b[0mcor\u001b[0m \u001b[1;33m=\u001b[0m \u001b[0mdf\u001b[0m\u001b[1;33m.\u001b[0m\u001b[0mcorr\u001b[0m\u001b[1;33m(\u001b[0m\u001b[0mmethod\u001b[0m\u001b[1;33m=\u001b[0m\u001b[1;34m'spearman'\u001b[0m\u001b[1;33m)\u001b[0m\u001b[1;33m.\u001b[0m\u001b[0mdrop\u001b[0m\u001b[1;33m(\u001b[0m\u001b[1;33m[\u001b[0m\u001b[1;34m'label_isSurvival'\u001b[0m\u001b[1;33m,\u001b[0m\u001b[1;34m'label_amount_spent'\u001b[0m\u001b[1;33m]\u001b[0m\u001b[1;33m)\u001b[0m\u001b[1;33m\u001b[0m\u001b[1;33m\u001b[0m\u001b[0m\n\u001b[0m\u001b[0;32m      5\u001b[0m     \u001b[0msur\u001b[0m \u001b[1;33m=\u001b[0m \u001b[0mcor\u001b[0m\u001b[1;33m.\u001b[0m\u001b[0msort_values\u001b[0m\u001b[1;33m(\u001b[0m\u001b[1;34m'label_isSurvival'\u001b[0m\u001b[1;33m,\u001b[0m \u001b[0mascending\u001b[0m\u001b[1;33m=\u001b[0m\u001b[1;32mFalse\u001b[0m\u001b[1;33m)\u001b[0m\u001b[1;33m.\u001b[0m\u001b[0mlabel_isSurvival\u001b[0m\u001b[1;33m\u001b[0m\u001b[1;33m\u001b[0m\u001b[0m\n\u001b[0;32m      6\u001b[0m     \u001b[0mamo\u001b[0m \u001b[1;33m=\u001b[0m \u001b[0mcor\u001b[0m\u001b[1;33m.\u001b[0m\u001b[0msort_values\u001b[0m\u001b[1;33m(\u001b[0m\u001b[1;34m'label_amount_spent'\u001b[0m\u001b[1;33m,\u001b[0m \u001b[0mascending\u001b[0m\u001b[1;33m=\u001b[0m\u001b[1;32mFalse\u001b[0m\u001b[1;33m)\u001b[0m\u001b[1;33m.\u001b[0m\u001b[0mlabel_amount_spent\u001b[0m\u001b[1;33m\u001b[0m\u001b[1;33m\u001b[0m\u001b[0m\n",
      "\u001b[1;32m~\\Anaconda3\\envs\\kaggle\\lib\\site-packages\\pandas\\core\\frame.py\u001b[0m in \u001b[0;36mcorr\u001b[1;34m(self, method, min_periods)\u001b[0m\n\u001b[0;32m   7006\u001b[0m         \u001b[1;32melif\u001b[0m \u001b[0mmethod\u001b[0m \u001b[1;33m==\u001b[0m \u001b[1;34m'spearman'\u001b[0m\u001b[1;33m:\u001b[0m\u001b[1;33m\u001b[0m\u001b[1;33m\u001b[0m\u001b[0m\n\u001b[0;32m   7007\u001b[0m             correl = libalgos.nancorr_spearman(ensure_float64(mat),\n\u001b[1;32m-> 7008\u001b[1;33m                                                minp=min_periods)\n\u001b[0m\u001b[0;32m   7009\u001b[0m         \u001b[1;32melif\u001b[0m \u001b[0mmethod\u001b[0m \u001b[1;33m==\u001b[0m \u001b[1;34m'kendall'\u001b[0m \u001b[1;32mor\u001b[0m \u001b[0mcallable\u001b[0m\u001b[1;33m(\u001b[0m\u001b[0mmethod\u001b[0m\u001b[1;33m)\u001b[0m\u001b[1;33m:\u001b[0m\u001b[1;33m\u001b[0m\u001b[1;33m\u001b[0m\u001b[0m\n\u001b[0;32m   7010\u001b[0m             \u001b[1;32mif\u001b[0m \u001b[0mmin_periods\u001b[0m \u001b[1;32mis\u001b[0m \u001b[1;32mNone\u001b[0m\u001b[1;33m:\u001b[0m\u001b[1;33m\u001b[0m\u001b[1;33m\u001b[0m\u001b[0m\n",
      "\u001b[1;32mpandas/_libs/algos.pyx\u001b[0m in \u001b[0;36mpandas._libs.algos.nancorr_spearman\u001b[1;34m()\u001b[0m\n",
      "\u001b[1;32mpandas/_libs/algos_rank_helper.pxi\u001b[0m in \u001b[0;36mpandas._libs.algos.rank_1d_float64\u001b[1;34m()\u001b[0m\n",
      "\u001b[1;32m~\\Anaconda3\\envs\\kaggle\\lib\\site-packages\\numpy\\lib\\function_base.py\u001b[0m in \u001b[0;36mdiff\u001b[1;34m(a, n, axis, prepend, append)\u001b[0m\n\u001b[0;32m   1147\u001b[0m \u001b[1;33m\u001b[0m\u001b[0m\n\u001b[0;32m   1148\u001b[0m \u001b[1;33m\u001b[0m\u001b[0m\n\u001b[1;32m-> 1149\u001b[1;33m \u001b[1;33m@\u001b[0m\u001b[0marray_function_dispatch\u001b[0m\u001b[1;33m(\u001b[0m\u001b[0m_diff_dispatcher\u001b[0m\u001b[1;33m)\u001b[0m\u001b[1;33m\u001b[0m\u001b[1;33m\u001b[0m\u001b[0m\n\u001b[0m\u001b[0;32m   1150\u001b[0m \u001b[1;32mdef\u001b[0m \u001b[0mdiff\u001b[0m\u001b[1;33m(\u001b[0m\u001b[0ma\u001b[0m\u001b[1;33m,\u001b[0m \u001b[0mn\u001b[0m\u001b[1;33m=\u001b[0m\u001b[1;36m1\u001b[0m\u001b[1;33m,\u001b[0m \u001b[0maxis\u001b[0m\u001b[1;33m=\u001b[0m\u001b[1;33m-\u001b[0m\u001b[1;36m1\u001b[0m\u001b[1;33m,\u001b[0m \u001b[0mprepend\u001b[0m\u001b[1;33m=\u001b[0m\u001b[0mnp\u001b[0m\u001b[1;33m.\u001b[0m\u001b[0m_NoValue\u001b[0m\u001b[1;33m,\u001b[0m \u001b[0mappend\u001b[0m\u001b[1;33m=\u001b[0m\u001b[0mnp\u001b[0m\u001b[1;33m.\u001b[0m\u001b[0m_NoValue\u001b[0m\u001b[1;33m)\u001b[0m\u001b[1;33m:\u001b[0m\u001b[1;33m\u001b[0m\u001b[1;33m\u001b[0m\u001b[0m\n\u001b[0;32m   1151\u001b[0m     \"\"\"\n",
      "\u001b[1;31mKeyboardInterrupt\u001b[0m: "
     ]
    }
   ],
   "source": [
    "# 28일 각각에 대한 corr\n",
    "sur_list = []\n",
    "amo_list = []\n",
    "for df in df_list:\n",
    "    cor = df.corr(method='spearman').drop(['label_isSurvival','label_amount_spent'])\n",
    "    sur = cor.sort_values('label_isSurvival', ascending=False).label_isSurvival\n",
    "    amo = cor.sort_values('label_amount_spent', ascending=False).label_amount_spent\n",
    "    sur_list.append(sur)\n",
    "    amo_list.append(amo)\n",
    "    \n",
    "print(len(sur_list))\n",
    "print(len(amo_list))"
   ]
  },
  {
   "cell_type": "code",
   "execution_count": 49,
   "metadata": {},
   "outputs": [
    {
     "data": {
      "text/plain": [
       "(28, 40000, 73)"
      ]
     },
     "execution_count": 49,
     "metadata": {},
     "output_type": "execute_result"
    }
   ],
   "source": []
  }
 ],
 "metadata": {
  "kernelspec": {
   "display_name": "Python 3",
   "language": "python",
   "name": "python3"
  },
  "language_info": {
   "codemirror_mode": {
    "name": "ipython",
    "version": 3
   },
   "file_extension": ".py",
   "mimetype": "text/x-python",
   "name": "python",
   "nbconvert_exporter": "python",
   "pygments_lexer": "ipython3",
   "version": "3.7.4"
  }
 },
 "nbformat": 4,
 "nbformat_minor": 2
}
