{
 "cells": [
  {
   "cell_type": "code",
   "execution_count": 1,
   "metadata": {},
   "outputs": [],
   "source": [
    "from model.module.path_header import *\n",
    "\n",
    "import pandas as pd\n",
    "import numpy as np\n",
    "from sklearn.neighbors import KNeighborsClassifier\n",
    "from sklearn.preprocessing import MinMaxScaler, RobustScaler\n",
    "from sklearn.model_selection import train_test_split\n",
    "\n",
    "import os\n",
    "from datetime import datetime"
   ]
  },
  {
   "cell_type": "code",
   "execution_count": 2,
   "metadata": {},
   "outputs": [],
   "source": [
    "TRAIN_NAME = '0906-21-train-v2.csv'\n",
    "TEST1_NAME = '0906-21-test1-v2.csv'\n",
    "TEST2_NAME = '0906-21-test2-v2.csv'\n",
    "LABEL_NAME = 'train_label.csv'\n",
    "\n",
    "TRAIN_PATH = os.path.join(PREPROCESS_DIR, TRAIN_NAME)\n",
    "TEST1_PATH = os.path.join(PREPROCESS_DIR, TEST1_NAME)\n",
    "TEST2_PATH = os.path.join(PREPROCESS_DIR, TEST2_NAME)\n",
    "LABEL_PATH = os.path.join(PREPROCESS_DIR, LABEL_NAME)\n",
    "\n",
    "train = pd.read_csv(TRAIN_PATH)\n",
    "test1 = pd.read_csv(TEST1_PATH)\n",
    "test2 = pd.read_csv(TEST2_PATH)\n",
    "label = pd.read_csv(LABEL_PATH)"
   ]
  },
  {
   "cell_type": "code",
   "execution_count": 3,
   "metadata": {},
   "outputs": [],
   "source": [
    "tra = train.copy()\n",
    "te1 = test1.copy()\n",
    "te2 = test2.copy()\n",
    "lab = label.copy()"
   ]
  },
  {
   "cell_type": "code",
   "execution_count": 4,
   "metadata": {},
   "outputs": [],
   "source": [
    "tra = tra.drop('day', axis=1).groupby('acc_id').mean()\n",
    "te1 = te1.drop('day', axis=1).groupby('acc_id').mean()\n",
    "te2 = te2.drop('day', axis=1).groupby('acc_id').mean()"
   ]
  },
  {
   "cell_type": "code",
   "execution_count": 5,
   "metadata": {},
   "outputs": [],
   "source": [
    "lab['isSurvival'] = lab['survival_time'].transform(lambda x: 1 if x==64 else 0)\n",
    "lab = lab['isSurvival']"
   ]
  },
  {
   "cell_type": "code",
   "execution_count": 6,
   "metadata": {},
   "outputs": [],
   "source": [
    "# mm = MinMaxScaler()\n",
    "# tra_scaled = mm.fit_transform(tra)\n",
    "# te1_scaled = mm.transform(te1)\n",
    "# te2_scaled = mm.transform(te2)\n",
    "\n",
    "rb = RobustScaler()\n",
    "tra_scaled = rb.fit_transform(tra)\n",
    "te1_scaled = rb.transform(te1)\n",
    "te2_scaled = rb.transform(te2)"
   ]
  },
  {
   "cell_type": "code",
   "execution_count": 7,
   "metadata": {},
   "outputs": [],
   "source": [
    "tra_X, val_X, tra_y, val_y = train_test_split(tra_scaled, lab, train_size=0.8)"
   ]
  },
  {
   "cell_type": "code",
   "execution_count": 22,
   "metadata": {
    "scrolled": false
   },
   "outputs": [
    {
     "name": "stdout",
     "output_type": "stream",
     "text": [
      ":::::::: GridSearch\n",
      "[   auto      3 ]\tscore: 0.6820\n",
      "[   auto      5 ]\tscore: 0.6957\n",
      "[   auto      7 ]\tscore: 0.6987\n",
      "[   auto      9 ]\tscore: 0.6960\n",
      "[   auto     11 ]\tscore: 0.7019\n",
      "[   auto     13 ]\tscore: 0.6995\n",
      "[   auto     15 ]\tscore: 0.6997\n",
      "[   auto     17 ]\tscore: 0.7014\n",
      "[   auto     19 ]\tscore: 0.7039\n",
      "[   auto     21 ]\tscore: 0.7037\n",
      "[   auto     23 ]\tscore: 0.7027\n",
      "[   auto     25 ]\tscore: 0.7016\n",
      "[   auto     27 ]\tscore: 0.7030\n",
      "[   auto     29 ]\tscore: 0.7034\n",
      "[ ball_tree   3 ]\tscore: 0.6820\n",
      "[ ball_tree   5 ]\tscore: 0.6957\n",
      "[ ball_tree   7 ]\tscore: 0.6987\n",
      "[ ball_tree   9 ]\tscore: 0.6960\n",
      "[ ball_tree  11 ]\tscore: 0.7019\n",
      "[ ball_tree  13 ]\tscore: 0.6995\n",
      "[ ball_tree  15 ]\tscore: 0.6997\n",
      "[ ball_tree  17 ]\tscore: 0.7014\n",
      "[ ball_tree  19 ]\tscore: 0.7039\n",
      "[ ball_tree  21 ]\tscore: 0.7037\n",
      "[ ball_tree  23 ]\tscore: 0.7027\n",
      "[ ball_tree  25 ]\tscore: 0.7016\n",
      "[ ball_tree  27 ]\tscore: 0.7030\n",
      "[ ball_tree  29 ]\tscore: 0.7034\n",
      "[  kd_tree    3 ]\tscore: 0.6820\n",
      "[  kd_tree    5 ]\tscore: 0.6957\n",
      "[  kd_tree    7 ]\tscore: 0.6987\n",
      "[  kd_tree    9 ]\tscore: 0.6960\n",
      "[  kd_tree   11 ]\tscore: 0.7019\n",
      "[  kd_tree   13 ]\tscore: 0.6995\n",
      "[  kd_tree   15 ]\tscore: 0.6997\n",
      "[  kd_tree   17 ]\tscore: 0.7014\n",
      "[  kd_tree   19 ]\tscore: 0.7039\n",
      "[  kd_tree   21 ]\tscore: 0.7037\n",
      "[  kd_tree   23 ]\tscore: 0.7027\n",
      "[  kd_tree   25 ]\tscore: 0.7016\n",
      "[  kd_tree   27 ]\tscore: 0.7030\n",
      "[  kd_tree   29 ]\tscore: 0.7034\n",
      "[   brute     3 ]\tscore: 0.6820\n",
      "[   brute     5 ]\tscore: 0.6957\n",
      "[   brute     7 ]\tscore: 0.6987\n",
      "[   brute     9 ]\tscore: 0.6960\n",
      "[   brute    11 ]\tscore: 0.7019\n",
      "[   brute    13 ]\tscore: 0.6995\n",
      "[   brute    15 ]\tscore: 0.6997\n",
      "[   brute    17 ]\tscore: 0.7014\n",
      "[   brute    19 ]\tscore: 0.7039\n",
      "[   brute    21 ]\tscore: 0.7037\n",
      "[   brute    23 ]\tscore: 0.7027\n",
      "[   brute    25 ]\tscore: 0.7016\n",
      "[   brute    27 ]\tscore: 0.7030\n",
      "[   brute    29 ]\tscore: 0.7034\n"
     ]
    }
   ],
   "source": [
    "# gridsearch\n",
    "param_neighbors=30\n",
    "param_algorithm= ['auto', 'ball_tree', 'kd_tree', 'brute']\n",
    "\n",
    "print(':::::::: GridSearch')\n",
    "for algo in param_algorithm:\n",
    "    for neighbors in range(3, param_neighbors, 2):\n",
    "        neigh = KNeighborsClassifier(algorithm=algo, n_neighbors=neighbors)\n",
    "        neigh.fit(tra_X, tra_y)\n",
    "        score = neigh.score(val_X, val_y)\n",
    "        print(f'[{algo:^11s} {neighbors:^3d}]\\tscore: {score:.4f}')"
   ]
  },
  {
   "cell_type": "code",
   "execution_count": 8,
   "metadata": {},
   "outputs": [
    {
     "name": "stdout",
     "output_type": "stream",
     "text": [
      "[   auto     29 ]\tscore: 0.7101\n"
     ]
    }
   ],
   "source": [
    "algo = 'auto'\n",
    "neighbors = 29\n",
    "neigh = KNeighborsClassifier(algorithm='auto', n_neighbors=29)\n",
    "neigh.fit(tra_X, tra_y)\n",
    "score = neigh.score(val_X, val_y)\n",
    "print(f'[{algo:^11s} {neighbors:^3d}]\\tscore: {score:.4f}')"
   ]
  },
  {
   "cell_type": "code",
   "execution_count": 9,
   "metadata": {},
   "outputs": [],
   "source": [
    "te1_predict = neigh.predict(te1_scaled)\n",
    "te2_predict = neigh.predict(te2_scaled)"
   ]
  },
  {
   "cell_type": "code",
   "execution_count": 10,
   "metadata": {},
   "outputs": [],
   "source": [
    "te1_idx = np.unique(test1.acc_id)\n",
    "te2_idx = np.unique(test2.acc_id)"
   ]
  },
  {
   "cell_type": "code",
   "execution_count": 11,
   "metadata": {},
   "outputs": [],
   "source": [
    "df1 = pd.DataFrame({'acc_id':te1_idx, 'isSurvival':te1_predict})\n",
    "df2 = pd.DataFrame({'acc_id':te2_idx, 'isSurvival':te2_predict})"
   ]
  },
  {
   "cell_type": "code",
   "execution_count": 12,
   "metadata": {},
   "outputs": [
    {
     "data": {
      "text/html": [
       "<div>\n",
       "<style scoped>\n",
       "    .dataframe tbody tr th:only-of-type {\n",
       "        vertical-align: middle;\n",
       "    }\n",
       "\n",
       "    .dataframe tbody tr th {\n",
       "        vertical-align: top;\n",
       "    }\n",
       "\n",
       "    .dataframe thead th {\n",
       "        text-align: right;\n",
       "    }\n",
       "</style>\n",
       "<table border=\"1\" class=\"dataframe\">\n",
       "  <thead>\n",
       "    <tr style=\"text-align: right;\">\n",
       "      <th></th>\n",
       "      <th>acc_id</th>\n",
       "      <th>isSurvival</th>\n",
       "    </tr>\n",
       "  </thead>\n",
       "  <tbody>\n",
       "    <tr>\n",
       "      <th>0</th>\n",
       "      <td>7</td>\n",
       "      <td>0</td>\n",
       "    </tr>\n",
       "    <tr>\n",
       "      <th>1</th>\n",
       "      <td>15</td>\n",
       "      <td>0</td>\n",
       "    </tr>\n",
       "    <tr>\n",
       "      <th>2</th>\n",
       "      <td>16</td>\n",
       "      <td>0</td>\n",
       "    </tr>\n",
       "    <tr>\n",
       "      <th>3</th>\n",
       "      <td>18</td>\n",
       "      <td>1</td>\n",
       "    </tr>\n",
       "    <tr>\n",
       "      <th>4</th>\n",
       "      <td>19</td>\n",
       "      <td>1</td>\n",
       "    </tr>\n",
       "  </tbody>\n",
       "</table>\n",
       "</div>"
      ],
      "text/plain": [
       "   acc_id  isSurvival\n",
       "0       7           0\n",
       "1      15           0\n",
       "2      16           0\n",
       "3      18           1\n",
       "4      19           1"
      ]
     },
     "metadata": {},
     "output_type": "display_data"
    },
    {
     "data": {
      "text/html": [
       "<div>\n",
       "<style scoped>\n",
       "    .dataframe tbody tr th:only-of-type {\n",
       "        vertical-align: middle;\n",
       "    }\n",
       "\n",
       "    .dataframe tbody tr th {\n",
       "        vertical-align: top;\n",
       "    }\n",
       "\n",
       "    .dataframe thead th {\n",
       "        text-align: right;\n",
       "    }\n",
       "</style>\n",
       "<table border=\"1\" class=\"dataframe\">\n",
       "  <thead>\n",
       "    <tr style=\"text-align: right;\">\n",
       "      <th></th>\n",
       "      <th>acc_id</th>\n",
       "      <th>isSurvival</th>\n",
       "    </tr>\n",
       "  </thead>\n",
       "  <tbody>\n",
       "    <tr>\n",
       "      <th>0</th>\n",
       "      <td>1</td>\n",
       "      <td>0</td>\n",
       "    </tr>\n",
       "    <tr>\n",
       "      <th>1</th>\n",
       "      <td>3</td>\n",
       "      <td>1</td>\n",
       "    </tr>\n",
       "    <tr>\n",
       "      <th>2</th>\n",
       "      <td>9</td>\n",
       "      <td>0</td>\n",
       "    </tr>\n",
       "    <tr>\n",
       "      <th>3</th>\n",
       "      <td>14</td>\n",
       "      <td>1</td>\n",
       "    </tr>\n",
       "    <tr>\n",
       "      <th>4</th>\n",
       "      <td>26</td>\n",
       "      <td>1</td>\n",
       "    </tr>\n",
       "  </tbody>\n",
       "</table>\n",
       "</div>"
      ],
      "text/plain": [
       "   acc_id  isSurvival\n",
       "0       1           0\n",
       "1       3           1\n",
       "2       9           0\n",
       "3      14           1\n",
       "4      26           1"
      ]
     },
     "metadata": {},
     "output_type": "display_data"
    }
   ],
   "source": [
    "display(df1.head())\n",
    "display(df2.head())"
   ]
  },
  {
   "cell_type": "code",
   "execution_count": 49,
   "metadata": {},
   "outputs": [],
   "source": [
    "tra = train.copy()\n",
    "te1 = test1.copy()\n",
    "te2 = test2.copy()\n",
    "lab = label.copy()"
   ]
  },
  {
   "cell_type": "code",
   "execution_count": 16,
   "metadata": {},
   "outputs": [],
   "source": [
    "tra = tra.drop('day', axis=1).groupby('acc_id').mean()\n",
    "te1 = te1.drop('day', axis=1).groupby('acc_id').mean()\n",
    "te2 = te2.drop('day', axis=1).groupby('acc_id').mean()"
   ]
  },
  {
   "cell_type": "code",
   "execution_count": 17,
   "metadata": {},
   "outputs": [
    {
     "name": "stdout",
     "output_type": "stream",
     "text": [
      "0.25    0.000000\n",
      "0.50    0.020343\n",
      "0.70    0.076985\n",
      "0.80    0.143745\n",
      "0.90    0.271187\n",
      "Name: amount_spent, dtype: float64\n",
      "0.6764472769057542\n",
      "0.8368034405895624\n",
      "0.9229246705260058\n"
     ]
    }
   ],
   "source": [
    "tot_sales = lab.amount_spent.sum()\n",
    "quantile = lab.amount_spent.quantile([.25, .5, .7, .8, .9])\n",
    "print(quantile)\n",
    "quantile = quantile.tolist()\n",
    "\n",
    "print(lab.amount_spent[lab.amount_spent>quantile[-1]].sum() / tot_sales) # 현질 상위 10% 유저의 전체 매출 기여도: 67% --> 상위 10% 이상: heavy user\n",
    "print(lab.amount_spent[lab.amount_spent>quantile[-2]].sum() / tot_sales) # 현질 상위 20% 유저의 전체 매출 기여도: 83% --> 상위 10%~30% : middle user\n",
    "print(lab.amount_spent[lab.amount_spent>quantile[-3]].sum() / tot_sales) # 현질 상위 30% 유저의 전체 매출 기여도: 92% --> 상위 30% 이하: non spent user\n"
   ]
  },
  {
   "cell_type": "code",
   "execution_count": 18,
   "metadata": {},
   "outputs": [],
   "source": [
    "def black_cow(x):\n",
    "    if x > quantile[-1]:\n",
    "        return 0\n",
    "    elif x > quantile[-3]:\n",
    "        return 1\n",
    "    else:\n",
    "        return 2\n",
    "\n",
    "lab['black_cow'] = lab.amount_spent.transform(black_cow)"
   ]
  },
  {
   "cell_type": "code",
   "execution_count": 19,
   "metadata": {},
   "outputs": [
    {
     "data": {
      "text/plain": [
       "2    28000\n",
       "1     8000\n",
       "0     4000\n",
       "Name: black_cow, dtype: int64"
      ]
     },
     "execution_count": 19,
     "metadata": {},
     "output_type": "execute_result"
    }
   ],
   "source": [
    "lab.black_cow.value_counts()"
   ]
  },
  {
   "cell_type": "code",
   "execution_count": 20,
   "metadata": {},
   "outputs": [],
   "source": [
    "lab = lab['black_cow']"
   ]
  },
  {
   "cell_type": "code",
   "execution_count": 21,
   "metadata": {},
   "outputs": [],
   "source": [
    "tra_X, val_X, tra_y, val_y = train_test_split(tra_scaled, lab, train_size=0.8)"
   ]
  },
  {
   "cell_type": "code",
   "execution_count": 25,
   "metadata": {},
   "outputs": [
    {
     "name": "stdout",
     "output_type": "stream",
     "text": [
      ":::::::: GridSearch\n",
      "[   auto      3 ]\tscore: 0.6871\n",
      "[   auto      5 ]\tscore: 0.7076\n",
      "[   auto      7 ]\tscore: 0.7180\n",
      "[   auto      9 ]\tscore: 0.7218\n",
      "[   auto     11 ]\tscore: 0.7282\n",
      "[   auto     13 ]\tscore: 0.7329\n",
      "[   auto     15 ]\tscore: 0.7350\n",
      "[   auto     17 ]\tscore: 0.7395\n",
      "[   auto     19 ]\tscore: 0.7399\n",
      "[   auto     21 ]\tscore: 0.7416\n",
      "[   auto     23 ]\tscore: 0.7422\n",
      "[   auto     25 ]\tscore: 0.7424\n",
      "[   auto     27 ]\tscore: 0.7430\n",
      "[   auto     29 ]\tscore: 0.7444\n",
      "[ ball_tree   3 ]\tscore: 0.6871\n",
      "[ ball_tree   5 ]\tscore: 0.7076\n",
      "[ ball_tree   7 ]\tscore: 0.7180\n",
      "[ ball_tree   9 ]\tscore: 0.7218\n",
      "[ ball_tree  11 ]\tscore: 0.7282\n",
      "[ ball_tree  13 ]\tscore: 0.7329\n",
      "[ ball_tree  15 ]\tscore: 0.7350\n",
      "[ ball_tree  17 ]\tscore: 0.7395\n",
      "[ ball_tree  19 ]\tscore: 0.7399\n",
      "[ ball_tree  21 ]\tscore: 0.7416\n",
      "[ ball_tree  23 ]\tscore: 0.7422\n",
      "[ ball_tree  25 ]\tscore: 0.7424\n",
      "[ ball_tree  27 ]\tscore: 0.7430\n",
      "[ ball_tree  29 ]\tscore: 0.7444\n",
      "[  kd_tree    3 ]\tscore: 0.6871\n",
      "[  kd_tree    5 ]\tscore: 0.7076\n",
      "[  kd_tree    7 ]\tscore: 0.7180\n",
      "[  kd_tree    9 ]\tscore: 0.7218\n",
      "[  kd_tree   11 ]\tscore: 0.7282\n",
      "[  kd_tree   13 ]\tscore: 0.7329\n",
      "[  kd_tree   15 ]\tscore: 0.7350\n",
      "[  kd_tree   17 ]\tscore: 0.7395\n",
      "[  kd_tree   19 ]\tscore: 0.7399\n",
      "[  kd_tree   21 ]\tscore: 0.7416\n",
      "[  kd_tree   23 ]\tscore: 0.7422\n",
      "[  kd_tree   25 ]\tscore: 0.7424\n",
      "[  kd_tree   27 ]\tscore: 0.7430\n",
      "[  kd_tree   29 ]\tscore: 0.7444\n",
      "[   brute     3 ]\tscore: 0.6871\n",
      "[   brute     5 ]\tscore: 0.7076\n",
      "[   brute     7 ]\tscore: 0.7180\n",
      "[   brute     9 ]\tscore: 0.7218\n",
      "[   brute    11 ]\tscore: 0.7282\n",
      "[   brute    13 ]\tscore: 0.7329\n",
      "[   brute    15 ]\tscore: 0.7350\n",
      "[   brute    17 ]\tscore: 0.7395\n",
      "[   brute    19 ]\tscore: 0.7399\n",
      "[   brute    21 ]\tscore: 0.7416\n",
      "[   brute    23 ]\tscore: 0.7422\n",
      "[   brute    25 ]\tscore: 0.7424\n",
      "[   brute    27 ]\tscore: 0.7430\n",
      "[   brute    29 ]\tscore: 0.7444\n"
     ]
    }
   ],
   "source": [
    "# gridsearch\n",
    "param_neighbors=30\n",
    "param_algorithm= ['auto', 'ball_tree', 'kd_tree', 'brute']\n",
    "\n",
    "print(':::::::: GridSearch')\n",
    "for algo in param_algorithm:\n",
    "    for neighbors in range(3, param_neighbors, 2):\n",
    "        neigh = KNeighborsClassifier(algorithm=algo, n_neighbors=neighbors)\n",
    "        neigh.fit(tra_X, tra_y)\n",
    "        score = neigh.score(val_X, val_y)\n",
    "        print(f'[{algo:^11s} {neighbors:^3d}]\\tscore: {score:.4f}')"
   ]
  },
  {
   "cell_type": "code",
   "execution_count": 27,
   "metadata": {},
   "outputs": [
    {
     "name": "stdout",
     "output_type": "stream",
     "text": [
      "[   auto     29 ]\tscore: 0.7444\n"
     ]
    }
   ],
   "source": [
    "algo = 'auto'\n",
    "neighbors = 29\n",
    "neigh = KNeighborsClassifier(algorithm='auto', n_neighbors=29)\n",
    "neigh.fit(tra_X, tra_y)\n",
    "score = neigh.score(val_X, val_y)\n",
    "print(f'[{algo:^11s} {neighbors:^3d}]\\tscore: {score:.4f}')\n",
    "\n",
    "te1_predict = neigh.predict(te1_scaled)\n",
    "te2_predict = neigh.predict(te2_scaled)                        "
   ]
  },
  {
   "cell_type": "code",
   "execution_count": 35,
   "metadata": {},
   "outputs": [],
   "source": [
    "te1_predict = pd.DataFrame({'acc_id':te1_idx, 'black_cow':te1_predict})\n",
    "te2_predict = pd.DataFrame({'acc_id':te2_idx, 'black_cow':te2_predict})"
   ]
  },
  {
   "cell_type": "code",
   "execution_count": 41,
   "metadata": {},
   "outputs": [],
   "source": [
    "df1 = pd.merge(df1, te1_predict, on='acc_id', how='left')\n",
    "df2 = pd.merge(df2, te2_predict, on='acc_id', how='left')"
   ]
  },
  {
   "cell_type": "code",
   "execution_count": 44,
   "metadata": {},
   "outputs": [
    {
     "data": {
      "text/html": [
       "<div>\n",
       "<style scoped>\n",
       "    .dataframe tbody tr th:only-of-type {\n",
       "        vertical-align: middle;\n",
       "    }\n",
       "\n",
       "    .dataframe tbody tr th {\n",
       "        vertical-align: top;\n",
       "    }\n",
       "\n",
       "    .dataframe thead th {\n",
       "        text-align: right;\n",
       "    }\n",
       "</style>\n",
       "<table border=\"1\" class=\"dataframe\">\n",
       "  <thead>\n",
       "    <tr style=\"text-align: right;\">\n",
       "      <th></th>\n",
       "      <th>acc_id</th>\n",
       "      <th>isSurvival</th>\n",
       "      <th>black_cow</th>\n",
       "    </tr>\n",
       "  </thead>\n",
       "  <tbody>\n",
       "    <tr>\n",
       "      <th>0</th>\n",
       "      <td>7</td>\n",
       "      <td>0</td>\n",
       "      <td>2</td>\n",
       "    </tr>\n",
       "    <tr>\n",
       "      <th>1</th>\n",
       "      <td>15</td>\n",
       "      <td>0</td>\n",
       "      <td>2</td>\n",
       "    </tr>\n",
       "    <tr>\n",
       "      <th>2</th>\n",
       "      <td>16</td>\n",
       "      <td>0</td>\n",
       "      <td>2</td>\n",
       "    </tr>\n",
       "    <tr>\n",
       "      <th>3</th>\n",
       "      <td>18</td>\n",
       "      <td>1</td>\n",
       "      <td>2</td>\n",
       "    </tr>\n",
       "    <tr>\n",
       "      <th>4</th>\n",
       "      <td>19</td>\n",
       "      <td>1</td>\n",
       "      <td>2</td>\n",
       "    </tr>\n",
       "  </tbody>\n",
       "</table>\n",
       "</div>"
      ],
      "text/plain": [
       "   acc_id  isSurvival  black_cow\n",
       "0       7           0          2\n",
       "1      15           0          2\n",
       "2      16           0          2\n",
       "3      18           1          2\n",
       "4      19           1          2"
      ]
     },
     "execution_count": 44,
     "metadata": {},
     "output_type": "execute_result"
    }
   ],
   "source": [
    "df1.head()"
   ]
  },
  {
   "cell_type": "code",
   "execution_count": 46,
   "metadata": {},
   "outputs": [],
   "source": [
    "# 저장\n",
    "path1 = os.path.join(PREPROCESS_DIR, 'test1-knn-clustering.csv')\n",
    "path2 = os.path.join(PREPROCESS_DIR, 'test2-knn-clustering.csv')\n",
    "df1.to_csv(path1, index=False)\n",
    "df2.to_csv(path2, index=False)"
   ]
  }
 ],
 "metadata": {
  "kernelspec": {
   "display_name": "Python 3",
   "language": "python",
   "name": "python3"
  },
  "language_info": {
   "codemirror_mode": {
    "name": "ipython",
    "version": 3
   },
   "file_extension": ".py",
   "mimetype": "text/x-python",
   "name": "python",
   "nbconvert_exporter": "python",
   "pygments_lexer": "ipython3",
   "version": "3.7.4"
  }
 },
 "nbformat": 4,
 "nbformat_minor": 2
}
